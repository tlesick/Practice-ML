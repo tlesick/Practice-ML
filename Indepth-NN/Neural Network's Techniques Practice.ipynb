{
 "cells": [
  {
   "cell_type": "code",
   "execution_count": 1,
   "metadata": {},
   "outputs": [],
   "source": [
    "# Python ≥3.5 is required\n",
    "import sys\n",
    "assert sys.version_info >= (3, 5)\n",
    "\n",
    "# Scikit-Learn ≥0.20 is required\n",
    "import sklearn\n",
    "assert sklearn.__version__ >= \"0.20\"\n",
    "\n",
    "try:\n",
    "    # %tensorflow_version only exists in Colab.\n",
    "    %tensorflow_version 2.x\n",
    "except Exception:\n",
    "    pass\n",
    "\n",
    "# TensorFlow ≥2.0 is required\n",
    "import tensorflow as tf\n",
    "from tensorflow import keras\n",
    "assert tf.__version__ >= \"2.0\"\n",
    "\n",
    "# Common imports\n",
    "import numpy as np\n",
    "import os\n",
    "\n",
    "# to make this notebook's output stable across runs\n",
    "np.random.seed(42)\n"
   ]
  },
  {
   "cell_type": "code",
   "execution_count": 2,
   "metadata": {},
   "outputs": [],
   "source": [
    "(X_train_full, Y_train_full), (x_test, y_test) = keras.datasets.fashion_mnist.load_data()\n",
    "X_train_full = X_train_full/255.0\n",
    "x_test = x_test / 255.0\n",
    "x_valid, x_train = X_train_full[:5000], X_train_full[5000:]\n",
    "y_valid, y_train = Y_train_full[:5000], Y_train_full[5000:]"
   ]
  },
  {
   "cell_type": "code",
   "execution_count": 3,
   "metadata": {},
   "outputs": [],
   "source": [
    "#Need to scale the inputs to a mean of 0, with a standard deviation of 1\n",
    "pixel_means = x_train.mean(axis=0, keepdims=True)\n",
    "pixel_stds = x_train.std(axis=0, keepdims=True)\n",
    "\n",
    "x_train_scaled = (x_train - pixel_means) / pixel_stds\n",
    "x_valid_scaled = (x_valid - pixel_means) / pixel_stds\n",
    "x_test_scaled = (x_test - pixel_means) / pixel_stds"
   ]
  },
  {
   "cell_type": "code",
   "execution_count": 4,
   "metadata": {},
   "outputs": [],
   "source": [
    "def set_random():\n",
    "    tf.random.set_seed(42)\n",
    "    np.random.seed(42)\n",
    "    return None\n",
    "set_random()"
   ]
  },
  {
   "cell_type": "code",
   "execution_count": 5,
   "metadata": {},
   "outputs": [],
   "source": [
    "# Plotting\n",
    "%matplotlib inline\n",
    "import matplotlib as mpl\n",
    "import matplotlib.pyplot as plt\n",
    "mpl.rc('axes', labelsize=14)\n",
    "mpl.rc('xtick', labelsize=12)\n",
    "mpl.rc('ytick', labelsize=12)\n",
    "\n",
    "# Graph Saving\n",
    "PROJECT_ROOT_DIR = \"./graphs\"\n",
    "CHAPTER_ID = \"deep\"\n",
    "IMAGES_PATH = os.path.join(PROJECT_ROOT_DIR, \"images\", CHAPTER_ID)\n",
    "os.makedirs(IMAGES_PATH, exist_ok=True)\n",
    "\n",
    "def save_fig(fig_id, tight_layout=True, fig_extension=\"png\", resolution=300):\n",
    "    path = os.path.join(IMAGES_PATH, fig_id + \".\" + fig_extension)\n",
    "    print(\"Saving figure\", fig_id)\n",
    "    if tight_layout:\n",
    "        plt.tight_layout()\n",
    "    plt.savefig(path, format=fig_extension, dpi=resolution)"
   ]
  },
  {
   "cell_type": "markdown",
   "metadata": {},
   "source": [
    "# Dealing w/ Vanishing/Exploding Gradients"
   ]
  },
  {
   "cell_type": "code",
   "execution_count": 3,
   "metadata": {},
   "outputs": [
    {
     "data": {
      "text/plain": [
       "['Constant',\n",
       " 'GlorotNormal',\n",
       " 'GlorotUniform',\n",
       " 'Identity',\n",
       " 'Initializer',\n",
       " 'Ones',\n",
       " 'Orthogonal',\n",
       " 'RandomNormal',\n",
       " 'RandomUniform',\n",
       " 'TruncatedNormal',\n",
       " 'VarianceScaling',\n",
       " 'Zeros',\n",
       " 'constant',\n",
       " 'deserialize',\n",
       " 'get',\n",
       " 'glorot_normal',\n",
       " 'glorot_uniform',\n",
       " 'he_normal',\n",
       " 'he_uniform',\n",
       " 'identity',\n",
       " 'lecun_normal',\n",
       " 'lecun_uniform',\n",
       " 'ones',\n",
       " 'orthogonal',\n",
       " 'serialize',\n",
       " 'zeros']"
      ]
     },
     "execution_count": 3,
     "metadata": {},
     "output_type": "execute_result"
    }
   ],
   "source": [
    "#list of different weight initializers\n",
    "[name for name in dir(keras.initializers) if not name.startswith(\"_\")]"
   ]
  },
  {
   "cell_type": "code",
   "execution_count": 5,
   "metadata": {},
   "outputs": [
    {
     "data": {
      "text/plain": [
       "<tensorflow.python.keras.layers.core.Dense at 0x7faa0c0bfb00>"
      ]
     },
     "execution_count": 5,
     "metadata": {},
     "output_type": "execute_result"
    }
   ],
   "source": [
    "#pre-declared initializer w/ more customization\n",
    "\n",
    "#he_normal w/ uniform distribution, using the fan_average (glort/xaiver init)\n",
    "init = keras.initializers.VarianceScaling(scale=2, mode='fan_avg',\n",
    "                                                distribution='uniform')\n",
    "keras.layers.Dense(10, activation='relu', kernel_initializer=init)"
   ]
  },
  {
   "cell_type": "code",
   "execution_count": 4,
   "metadata": {},
   "outputs": [
    {
     "data": {
      "text/plain": [
       "<tensorflow.python.keras.layers.core.Dense at 0x7faa8c5a0438>"
      ]
     },
     "execution_count": 4,
     "metadata": {},
     "output_type": "execute_result"
    }
   ],
   "source": [
    "#simple use of initalizer\n",
    "keras.layers.Dense(10, activation='relu', kernel_initializer='he_normal')"
   ]
  },
  {
   "cell_type": "markdown",
   "metadata": {},
   "source": [
    "# Activation Functions variations"
   ]
  },
  {
   "cell_type": "markdown",
   "metadata": {},
   "source": [
    "RELU's (rectified linear unit) suffer from 'dying neuron', other options include:"
   ]
  },
  {
   "cell_type": "code",
   "execution_count": 6,
   "metadata": {},
   "outputs": [],
   "source": [
    "#Leaky RELU manual creation (also part of keras.activations)\n",
    "def leaky_relu(z, alpha=0.01):\n",
    "    return np.maximum(alpha*z, z)"
   ]
  },
  {
   "cell_type": "code",
   "execution_count": 7,
   "metadata": {},
   "outputs": [
    {
     "data": {
      "text/plain": [
       "['deserialize',\n",
       " 'elu',\n",
       " 'exponential',\n",
       " 'get',\n",
       " 'hard_sigmoid',\n",
       " 'linear',\n",
       " 'relu',\n",
       " 'selu',\n",
       " 'serialize',\n",
       " 'sigmoid',\n",
       " 'softmax',\n",
       " 'softplus',\n",
       " 'softsign',\n",
       " 'tanh']"
      ]
     },
     "execution_count": 7,
     "metadata": {},
     "output_type": "execute_result"
    }
   ],
   "source": [
    "# selection of other activation functions\n",
    "[m for m in dir(keras.activations) if not m.startswith(\"_\")]"
   ]
  },
  {
   "cell_type": "code",
   "execution_count": 8,
   "metadata": {},
   "outputs": [
    {
     "data": {
      "text/plain": [
       "['LeakyReLU', 'PReLU', 'ReLU', 'ThresholdedReLU']"
      ]
     },
     "execution_count": 8,
     "metadata": {},
     "output_type": "execute_result"
    }
   ],
   "source": [
    "#RELU alterations\n",
    "[m for m in dir(keras.layers) if \"relu\" in m.lower()]"
   ]
  },
  {
   "cell_type": "markdown",
   "metadata": {},
   "source": [
    "### Leaky Rectified Linear Unit "
   ]
  },
  {
   "cell_type": "code",
   "execution_count": 11,
   "metadata": {},
   "outputs": [],
   "source": [
    "model = keras.models.Sequential([\n",
    "    keras.layers.Flatten(input_shape=[28,28]),\n",
    "    keras.layers.Dense(300, kernel_initializer='he_normal'),\n",
    "    keras.layers.LeakyReLU(),\n",
    "    keras.layers.Dense(100, kernel_initializer='he_normal'),\n",
    "    keras.layers.LeakyReLU(),\n",
    "    keras.layers.Dense(10, activation='softmax')\n",
    "])\n",
    "\n",
    "model.compile(loss='sparse_categorical_crossentropy',\n",
    "              optimizer=keras.optimizers.SGD(lr=1e-3), \n",
    "              metrics=['accuracy'])"
   ]
  },
  {
   "cell_type": "code",
   "execution_count": 12,
   "metadata": {},
   "outputs": [
    {
     "name": "stdout",
     "output_type": "stream",
     "text": [
      "Train on 55000 samples, validate on 5000 samples\n",
      "Epoch 1/10\n",
      "55000/55000 [==============================] - 6s 114us/sample - loss: 1.2810 - accuracy: 0.6205 - val_loss: 0.8869 - val_accuracy: 0.7160\n",
      "Epoch 2/10\n",
      "55000/55000 [==============================] - 5s 89us/sample - loss: 0.7952 - accuracy: 0.7369 - val_loss: 0.7132 - val_accuracy: 0.7626\n",
      "Epoch 3/10\n",
      "55000/55000 [==============================] - 5s 92us/sample - loss: 0.6817 - accuracy: 0.7726 - val_loss: 0.6385 - val_accuracy: 0.7896\n",
      "Epoch 4/10\n",
      "55000/55000 [==============================] - 5s 90us/sample - loss: 0.6219 - accuracy: 0.7942 - val_loss: 0.5931 - val_accuracy: 0.8016\n",
      "Epoch 5/10\n",
      "55000/55000 [==============================] - 5s 89us/sample - loss: 0.5829 - accuracy: 0.8074 - val_loss: 0.5607 - val_accuracy: 0.8166\n",
      "Epoch 6/10\n",
      "55000/55000 [==============================] - 5s 91us/sample - loss: 0.5552 - accuracy: 0.8173 - val_loss: 0.5355 - val_accuracy: 0.8240\n",
      "Epoch 7/10\n",
      "55000/55000 [==============================] - 5s 90us/sample - loss: 0.5338 - accuracy: 0.8224 - val_loss: 0.5166 - val_accuracy: 0.8300\n",
      "Epoch 8/10\n",
      "55000/55000 [==============================] - 5s 92us/sample - loss: 0.5172 - accuracy: 0.8261 - val_loss: 0.5043 - val_accuracy: 0.8356\n",
      "Epoch 9/10\n",
      "55000/55000 [==============================] - 5s 90us/sample - loss: 0.5039 - accuracy: 0.8305 - val_loss: 0.4889 - val_accuracy: 0.8386\n",
      "Epoch 10/10\n",
      "55000/55000 [==============================] - 5s 90us/sample - loss: 0.4922 - accuracy: 0.8332 - val_loss: 0.4816 - val_accuracy: 0.8396\n"
     ]
    }
   ],
   "source": [
    "history = model.fit(x_train, y_train, epochs=10, validation_data=(x_valid, y_valid))\n"
   ]
  },
  {
   "cell_type": "code",
   "execution_count": 13,
   "metadata": {},
   "outputs": [
    {
     "name": "stdout",
     "output_type": "stream",
     "text": [
      "10000/10000 [==============================] - 0s 48us/sample - loss: 0.5154 - accuracy: 0.8259\n"
     ]
    }
   ],
   "source": [
    "#LeakyRELU\n",
    "mse_test = model.evaluate(x_test, y_test)"
   ]
  },
  {
   "cell_type": "markdown",
   "metadata": {},
   "source": [
    "### Parameteric Rectified Linear Unit (PRelu)"
   ]
  },
  {
   "cell_type": "code",
   "execution_count": 14,
   "metadata": {},
   "outputs": [],
   "source": [
    "set_random()\n",
    "model = keras.models.Sequential([\n",
    "    keras.layers.Flatten(input_shape=[28, 28]),\n",
    "    keras.layers.Dense(300, kernel_initializer='he_normal'),\n",
    "    keras.layers.PReLU(),\n",
    "    keras.layers.Dense(100, kernel_initializer='he_normal'),\n",
    "    keras.layers.PReLU(),\n",
    "    keras.layers.Dense(10, activation='softmax')\n",
    "    \n",
    "])\n",
    "\n",
    "model.compile(loss='sparse_categorical_crossentropy', \n",
    "             optimizer= keras.optimizers.SGD(lr=1e-3),\n",
    "             metrics=['accuracy'])"
   ]
  },
  {
   "cell_type": "code",
   "execution_count": 15,
   "metadata": {},
   "outputs": [
    {
     "name": "stdout",
     "output_type": "stream",
     "text": [
      "Train on 55000 samples, validate on 5000 samples\n",
      "Epoch 1/10\n",
      "55000/55000 [==============================] - 6s 104us/sample - loss: 1.3452 - accuracy: 0.6203 - val_loss: 0.9241 - val_accuracy: 0.7170\n",
      "Epoch 2/10\n",
      "55000/55000 [==============================] - 5s 93us/sample - loss: 0.8196 - accuracy: 0.7364 - val_loss: 0.7313 - val_accuracy: 0.7598\n",
      "Epoch 3/10\n",
      "55000/55000 [==============================] - 5s 96us/sample - loss: 0.6969 - accuracy: 0.7700 - val_loss: 0.6516 - val_accuracy: 0.7882\n",
      "Epoch 4/10\n",
      "55000/55000 [==============================] - 5s 96us/sample - loss: 0.6333 - accuracy: 0.7915 - val_loss: 0.6032 - val_accuracy: 0.8054\n",
      "Epoch 5/10\n",
      "55000/55000 [==============================] - 5s 93us/sample - loss: 0.5916 - accuracy: 0.8049 - val_loss: 0.5689 - val_accuracy: 0.8160\n",
      "Epoch 6/10\n",
      "55000/55000 [==============================] - 5s 93us/sample - loss: 0.5619 - accuracy: 0.8144 - val_loss: 0.5416 - val_accuracy: 0.8228\n",
      "Epoch 7/10\n",
      "55000/55000 [==============================] - 5s 96us/sample - loss: 0.5392 - accuracy: 0.8205 - val_loss: 0.5213 - val_accuracy: 0.8298\n",
      "Epoch 8/10\n",
      "55000/55000 [==============================] - 5s 94us/sample - loss: 0.5214 - accuracy: 0.8257 - val_loss: 0.5075 - val_accuracy: 0.8350\n",
      "Epoch 9/10\n",
      "55000/55000 [==============================] - 5s 92us/sample - loss: 0.5071 - accuracy: 0.8287 - val_loss: 0.4917 - val_accuracy: 0.8384\n",
      "Epoch 10/10\n",
      "55000/55000 [==============================] - 5s 96us/sample - loss: 0.4946 - accuracy: 0.8321 - val_loss: 0.4839 - val_accuracy: 0.8380\n"
     ]
    },
    {
     "data": {
      "text/plain": [
       "<tensorflow.python.keras.callbacks.History at 0x7fa9b8207fd0>"
      ]
     },
     "execution_count": 15,
     "metadata": {},
     "output_type": "execute_result"
    }
   ],
   "source": [
    "model.fit(x_train, y_train, epochs=10, validation_data=(x_valid, y_valid))"
   ]
  },
  {
   "cell_type": "code",
   "execution_count": 16,
   "metadata": {},
   "outputs": [
    {
     "name": "stdout",
     "output_type": "stream",
     "text": [
      "10000/10000 [==============================] - 1s 55us/sample - loss: 0.5153 - accuracy: 0.8245\n"
     ]
    },
    {
     "data": {
      "text/plain": [
       "[0.5152998466014862, 0.8245]"
      ]
     },
     "execution_count": 16,
     "metadata": {},
     "output_type": "execute_result"
    }
   ],
   "source": [
    "#PRelu\n",
    "model.evaluate(x_test, y_test)"
   ]
  },
  {
   "cell_type": "markdown",
   "metadata": {},
   "source": [
    "### Exponential Linear Units (ELU)"
   ]
  },
  {
   "cell_type": "code",
   "execution_count": 17,
   "metadata": {},
   "outputs": [],
   "source": [
    "#visualization\n",
    "z = np.linspace(-5, 5, 200)\n",
    "\n",
    "def elu(z, alpha=1):\n",
    "    return np.where(z < 0, alpha * (np.exp(z) - 1), z)"
   ]
  },
  {
   "cell_type": "code",
   "execution_count": 18,
   "metadata": {},
   "outputs": [
    {
     "data": {
      "image/png": "[encoded data removed]",
      "text/plain": [
       "<Figure size 432x288 with 1 Axes>"
      ]
     },
     "metadata": {
      "needs_background": "light"
     },
     "output_type": "display_data"
    }
   ],
   "source": [
    "plt.plot(z, elu(z), \"b-\", linewidth=2)\n",
    "plt.plot([-5, 5], [0, 0], 'k-')\n",
    "plt.plot([-5, 5], [-1, -1], 'k--')\n",
    "plt.plot([0, 0], [-2.2, 3.2], 'k-')\n",
    "plt.grid(True)\n",
    "plt.title(r\"ELU activation demo ($\\alpha=1$)\", fontsize=15)\n",
    "plt.axis([-5, 5, -2.2, 3.2])\n",
    "\n",
    "plt.show()"
   ]
  },
  {
   "cell_type": "code",
   "execution_count": 19,
   "metadata": {},
   "outputs": [
    {
     "data": {
      "text/plain": [
       "<tensorflow.python.keras.layers.core.Dense at 0x7fa9b8147748>"
      ]
     },
     "execution_count": 19,
     "metadata": {},
     "output_type": "execute_result"
    }
   ],
   "source": [
    "#utilizing ELU \n",
    "keras.layers.Dense(10, activation='elu')"
   ]
  },
  {
   "cell_type": "code",
   "execution_count": 20,
   "metadata": {},
   "outputs": [],
   "source": [
    "model = keras.models.Sequential([\n",
    "    keras.layers.Flatten(input_shape=[28, 28]),\n",
    "    keras.layers.Dense(300, activation='elu'),\n",
    "    keras.layers.Dense(100, activation='elu'),\n",
    "    keras.layers.Dense(10, activation='softmax')\n",
    "])"
   ]
  },
  {
   "cell_type": "code",
   "execution_count": 21,
   "metadata": {},
   "outputs": [],
   "source": [
    "model.compile(loss='sparse_categorical_crossentropy', \n",
    "             optimizer= keras.optimizers.SGD(lr=1e-3),\n",
    "             metrics=['accuracy'])"
   ]
  },
  {
   "cell_type": "code",
   "execution_count": 22,
   "metadata": {},
   "outputs": [
    {
     "name": "stdout",
     "output_type": "stream",
     "text": [
      "Train on 55000 samples, validate on 5000 samples\n",
      "Epoch 1/10\n",
      "55000/55000 [==============================] - 5s 94us/sample - loss: 1.1400 - accuracy: 0.6525 - val_loss: 0.8021 - val_accuracy: 0.7462\n",
      "Epoch 2/10\n",
      "55000/55000 [==============================] - 5s 92us/sample - loss: 0.7380 - accuracy: 0.7579 - val_loss: 0.6668 - val_accuracy: 0.7804\n",
      "Epoch 3/10\n",
      "55000/55000 [==============================] - 5s 90us/sample - loss: 0.6461 - accuracy: 0.7858 - val_loss: 0.6059 - val_accuracy: 0.8012\n",
      "Epoch 4/10\n",
      "55000/55000 [==============================] - 5s 95us/sample - loss: 0.5966 - accuracy: 0.8008 - val_loss: 0.5682 - val_accuracy: 0.8132\n",
      "Epoch 5/10\n",
      "55000/55000 [==============================] - 5s 91us/sample - loss: 0.5641 - accuracy: 0.8100 - val_loss: 0.5411 - val_accuracy: 0.8198\n",
      "Epoch 6/10\n",
      "55000/55000 [==============================] - 5s 91us/sample - loss: 0.5410 - accuracy: 0.8152 - val_loss: 0.5213 - val_accuracy: 0.8226\n",
      "Epoch 7/10\n",
      "55000/55000 [==============================] - 5s 93us/sample - loss: 0.5234 - accuracy: 0.8206 - val_loss: 0.5058 - val_accuracy: 0.8298\n",
      "Epoch 8/10\n",
      "55000/55000 [==============================] - 5s 95us/sample - loss: 0.5096 - accuracy: 0.8242 - val_loss: 0.4949 - val_accuracy: 0.8324\n",
      "Epoch 9/10\n",
      "55000/55000 [==============================] - 5s 96us/sample - loss: 0.4984 - accuracy: 0.8282 - val_loss: 0.4824 - val_accuracy: 0.8358\n",
      "Epoch 10/10\n",
      "55000/55000 [==============================] - 5s 96us/sample - loss: 0.4887 - accuracy: 0.8301 - val_loss: 0.4765 - val_accuracy: 0.8364\n"
     ]
    }
   ],
   "source": [
    "history = model.fit(x_train, y_train, epochs=10, validation_data=(x_valid, y_valid))"
   ]
  },
  {
   "cell_type": "code",
   "execution_count": 23,
   "metadata": {},
   "outputs": [
    {
     "name": "stdout",
     "output_type": "stream",
     "text": [
      "10000/10000 [==============================] - 0s 46us/sample - loss: 0.5097 - accuracy: 0.8202\n"
     ]
    },
    {
     "data": {
      "text/plain": [
       "[0.5097105376243591, 0.8202]"
      ]
     },
     "execution_count": 23,
     "metadata": {},
     "output_type": "execute_result"
    }
   ],
   "source": [
    "#elu\n",
    "model.evaluate(x_test, y_test)"
   ]
  },
  {
   "cell_type": "markdown",
   "metadata": {},
   "source": [
    "### Scaled exponential  linear unit (SELU)"
   ]
  },
  {
   "cell_type": "markdown",
   "metadata": {},
   "source": [
    "during training with a leCun initalization with scaled exponential linear units will self-normalize, solving the problem of vanishing and exploding gradients. "
   ]
  },
  {
   "cell_type": "markdown",
   "metadata": {},
   "source": [
    "downsides: can't use regularization, dropout, max-normalization, skip connections (aka RNNs)"
   ]
  },
  {
   "cell_type": "code",
   "execution_count": 24,
   "metadata": {},
   "outputs": [
    {
     "data": {
      "text/plain": [
       "<tensorflow.python.keras.layers.core.Dense at 0x7fa9b8fbbf28>"
      ]
     },
     "execution_count": 24,
     "metadata": {},
     "output_type": "execute_result"
    }
   ],
   "source": [
    "#implementing SELU\n",
    "keras.layers.Dense(10, activation='selu', kernel_initializer='lecun_normal')"
   ]
  },
  {
   "cell_type": "code",
   "execution_count": 25,
   "metadata": {},
   "outputs": [],
   "source": [
    "set_random()"
   ]
  },
  {
   "cell_type": "code",
   "execution_count": 26,
   "metadata": {},
   "outputs": [],
   "source": [
    "model = keras.models.Sequential()\n",
    "model.add(keras.layers.Flatten(input_shape=[28,28]))\n",
    "model.add(keras.layers.Dense(300, activation='selu', kernel_initializer='lecun_normal'))\n",
    "#hundo layers of hundo neons\n",
    "for layer in range(99):\n",
    "    model.add(keras.layers.Dense(100, activation='selu', kernel_initializer='lecun_normal'))\n",
    "model.add(keras.layers.Dense(10, activation='softmax'))"
   ]
  },
  {
   "cell_type": "code",
   "execution_count": 27,
   "metadata": {},
   "outputs": [],
   "source": [
    "model.compile(loss=\"sparse_categorical_crossentropy\", \n",
    "             optimizer=keras.optimizers.SGD(lr=1e-3),\n",
    "             metrics=['accuracy'])"
   ]
  },
  {
   "cell_type": "code",
   "execution_count": 29,
   "metadata": {},
   "outputs": [
    {
     "name": "stdout",
     "output_type": "stream",
     "text": [
      "Train on 55000 samples, validate on 5000 samples\n",
      "Epoch 1/5\n",
      "55000/55000 [==============================] - 26s 466us/sample - loss: 1.0828 - accuracy: 0.5751 - val_loss: 0.8131 - val_accuracy: 0.6756\n",
      "Epoch 2/5\n",
      "55000/55000 [==============================] - 23s 423us/sample - loss: 0.7160 - accuracy: 0.7326 - val_loss: 0.5939 - val_accuracy: 0.7852\n",
      "Epoch 3/5\n",
      "55000/55000 [==============================] - 23s 423us/sample - loss: 0.5887 - accuracy: 0.7851 - val_loss: 0.5875 - val_accuracy: 0.7904\n",
      "Epoch 4/5\n",
      "55000/55000 [==============================] - 23s 426us/sample - loss: 0.5369 - accuracy: 0.8052 - val_loss: 0.5551 - val_accuracy: 0.8090\n",
      "Epoch 5/5\n",
      "55000/55000 [==============================] - 23s 413us/sample - loss: 0.5135 - accuracy: 0.8179 - val_loss: 0.6958 - val_accuracy: 0.7352\n"
     ]
    }
   ],
   "source": [
    "history = model.fit(x_train_scaled, y_train, epochs=5, validation_data=(x_valid_scaled, y_valid))"
   ]
  },
  {
   "cell_type": "code",
   "execution_count": 30,
   "metadata": {},
   "outputs": [
    {
     "name": "stdout",
     "output_type": "stream",
     "text": [
      "10000/10000 [==============================] - 2s 189us/sample - loss: 0.7246 - accuracy: 0.7274\n"
     ]
    },
    {
     "data": {
      "text/plain": [
       "[0.7245925815582276, 0.7274]"
      ]
     },
     "execution_count": 30,
     "metadata": {},
     "output_type": "execute_result"
    }
   ],
   "source": [
    "model.evaluate(x_test_scaled, y_test)"
   ]
  },
  {
   "cell_type": "markdown",
   "metadata": {},
   "source": [
    "### Previous architecture w/ RELU"
   ]
  },
  {
   "cell_type": "code",
   "execution_count": 31,
   "metadata": {},
   "outputs": [],
   "source": [
    "set_random()"
   ]
  },
  {
   "cell_type": "code",
   "execution_count": 32,
   "metadata": {},
   "outputs": [],
   "source": [
    "model = keras.models.Sequential()\n",
    "model.add(keras.layers.Flatten(input_shape=[28, 28]))\n",
    "model.add(keras.layers.Dense(300, activation='relu', kernel_initializer='he_normal'))\n",
    "\n",
    "for layer in range(99):\n",
    "    model.add(keras.layers.Dense(100, activation='relu', kernel_initializer='he_normal'))\n",
    "model.add(keras.layers.Dense(10, activation='softmax'))"
   ]
  },
  {
   "cell_type": "code",
   "execution_count": 33,
   "metadata": {},
   "outputs": [],
   "source": [
    "model.compile(loss='sparse_categorical_crossentropy', optimizer=keras.optimizers.SGD(lr=1e-3),\n",
    "             metrics=['accuracy'])"
   ]
  },
  {
   "cell_type": "code",
   "execution_count": 34,
   "metadata": {},
   "outputs": [
    {
     "name": "stdout",
     "output_type": "stream",
     "text": [
      "Train on 55000 samples, validate on 5000 samples\n",
      "Epoch 1/5\n",
      "55000/55000 [==============================] - 23s 413us/sample - loss: 1.7822 - accuracy: 0.2732 - val_loss: 1.1945 - val_accuracy: 0.4636\n",
      "Epoch 2/5\n",
      "55000/55000 [==============================] - 21s 389us/sample - loss: 1.1452 - accuracy: 0.5130 - val_loss: 0.9559 - val_accuracy: 0.6098\n",
      "Epoch 3/5\n",
      "55000/55000 [==============================] - 20s 373us/sample - loss: 0.9717 - accuracy: 0.6033 - val_loss: 1.0026 - val_accuracy: 0.5730\n",
      "Epoch 4/5\n",
      "55000/55000 [==============================] - 21s 380us/sample - loss: 0.8138 - accuracy: 0.6735 - val_loss: 0.6852 - val_accuracy: 0.7364\n",
      "Epoch 5/5\n",
      "55000/55000 [==============================] - 21s 374us/sample - loss: 0.8367 - accuracy: 0.6733 - val_loss: 0.7549 - val_accuracy: 0.7224\n"
     ]
    }
   ],
   "source": [
    "history = model.fit(x_train_scaled, y_train, epochs=5, validation_data=(x_valid_scaled, y_valid))"
   ]
  },
  {
   "cell_type": "code",
   "execution_count": 35,
   "metadata": {},
   "outputs": [
    {
     "name": "stdout",
     "output_type": "stream",
     "text": [
      "10000/10000 [==============================] - 1s 143us/sample - loss: 0.7812 - accuracy: 0.7147\n"
     ]
    },
    {
     "data": {
      "text/plain": [
       "[0.7812127910614014, 0.7147]"
      ]
     },
     "execution_count": 35,
     "metadata": {},
     "output_type": "execute_result"
    }
   ],
   "source": [
    "model.evaluate(x_test_scaled, y_test)"
   ]
  },
  {
   "cell_type": "markdown",
   "metadata": {},
   "source": [
    "# Batch Normalization"
   ]
  },
  {
   "cell_type": "code",
   "execution_count": 36,
   "metadata": {},
   "outputs": [],
   "source": [
    "model = keras.models.Sequential([\n",
    "    keras.layers.Flatten(input_shape=[28, 28]),\n",
    "    keras.layers.BatchNormalization(),\n",
    "    keras.layers.Dense(300, activation='relu'),\n",
    "    keras.layers.BatchNormalization(),\n",
    "    keras.layers.Dense(100, activation='relu'),\n",
    "    keras.layers.BatchNormalization(),\n",
    "    keras.layers.Dense(10, activation='softmax')\n",
    "])\n"
   ]
  },
  {
   "cell_type": "code",
   "execution_count": 37,
   "metadata": {},
   "outputs": [
    {
     "name": "stdout",
     "output_type": "stream",
     "text": [
      "Model: \"sequential_5\"\n",
      "_________________________________________________________________\n",
      "Layer (type)                 Output Shape              Param #   \n",
      "=================================================================\n",
      "flatten_5 (Flatten)          (None, 784)               0         \n",
      "_________________________________________________________________\n",
      "batch_normalization (BatchNo (None, 784)               3136      \n",
      "_________________________________________________________________\n",
      "dense_215 (Dense)            (None, 300)               235500    \n",
      "_________________________________________________________________\n",
      "batch_normalization_1 (Batch (None, 300)               1200      \n",
      "_________________________________________________________________\n",
      "dense_216 (Dense)            (None, 100)               30100     \n",
      "_________________________________________________________________\n",
      "batch_normalization_2 (Batch (None, 100)               400       \n",
      "_________________________________________________________________\n",
      "dense_217 (Dense)            (None, 10)                1010      \n",
      "=================================================================\n",
      "Total params: 271,346\n",
      "Trainable params: 268,978\n",
      "Non-trainable params: 2,368\n",
      "_________________________________________________________________\n"
     ]
    }
   ],
   "source": [
    "model.summary()"
   ]
  },
  {
   "cell_type": "code",
   "execution_count": 38,
   "metadata": {},
   "outputs": [
    {
     "data": {
      "text/plain": [
       "[('batch_normalization/gamma:0', True),\n",
       " ('batch_normalization/beta:0', True),\n",
       " ('batch_normalization/moving_mean:0', False),\n",
       " ('batch_normalization/moving_variance:0', False)]"
      ]
     },
     "execution_count": 38,
     "metadata": {},
     "output_type": "execute_result"
    }
   ],
   "source": [
    "batch_normalization_1 = model.layers[1]\n",
    "[(var.name, var.trainable) for var in batch_normalization_1.variables]"
   ]
  },
  {
   "cell_type": "code",
   "execution_count": 39,
   "metadata": {},
   "outputs": [
    {
     "data": {
      "text/plain": [
       "[<tf.Operation 'cond/Identity' type=Identity>,\n",
       " <tf.Operation 'cond_1/Identity' type=Identity>]"
      ]
     },
     "execution_count": 39,
     "metadata": {},
     "output_type": "execute_result"
    }
   ],
   "source": [
    "batch_normalization_1.updates"
   ]
  },
  {
   "cell_type": "code",
   "execution_count": 40,
   "metadata": {},
   "outputs": [],
   "source": [
    "model.compile(loss='sparse_categorical_crossentropy', \n",
    "             optimizer= keras.optimizers.SGD(lr=1e-3),\n",
    "             metrics=['accuracy'])"
   ]
  },
  {
   "cell_type": "code",
   "execution_count": 41,
   "metadata": {},
   "outputs": [
    {
     "name": "stdout",
     "output_type": "stream",
     "text": [
      "Train on 55000 samples, validate on 5000 samples\n",
      "Epoch 1/10\n",
      "55000/55000 [==============================] - 8s 154us/sample - loss: 0.8761 - accuracy: 0.7122 - val_loss: 0.5510 - val_accuracy: 0.8232\n",
      "Epoch 2/10\n",
      "55000/55000 [==============================] - 7s 133us/sample - loss: 0.5737 - accuracy: 0.8037 - val_loss: 0.4723 - val_accuracy: 0.8454\n",
      "Epoch 3/10\n",
      "55000/55000 [==============================] - 7s 131us/sample - loss: 0.5142 - accuracy: 0.8230 - val_loss: 0.4376 - val_accuracy: 0.8576\n",
      "Epoch 4/10\n",
      "55000/55000 [==============================] - 8s 138us/sample - loss: 0.4826 - accuracy: 0.8329 - val_loss: 0.4134 - val_accuracy: 0.8638\n",
      "Epoch 5/10\n",
      "55000/55000 [==============================] - 7s 135us/sample - loss: 0.4570 - accuracy: 0.8415 - val_loss: 0.3989 - val_accuracy: 0.8648\n",
      "Epoch 6/10\n",
      "55000/55000 [==============================] - 7s 132us/sample - loss: 0.4432 - accuracy: 0.8457 - val_loss: 0.3869 - val_accuracy: 0.8708\n",
      "Epoch 7/10\n",
      "55000/55000 [==============================] - 7s 134us/sample - loss: 0.4254 - accuracy: 0.8513 - val_loss: 0.3783 - val_accuracy: 0.8704\n",
      "Epoch 8/10\n",
      "55000/55000 [==============================] - 8s 137us/sample - loss: 0.4149 - accuracy: 0.8535 - val_loss: 0.3708 - val_accuracy: 0.8756\n",
      "Epoch 9/10\n",
      "55000/55000 [==============================] - 8s 137us/sample - loss: 0.4015 - accuracy: 0.8597 - val_loss: 0.3636 - val_accuracy: 0.8752\n",
      "Epoch 10/10\n",
      "55000/55000 [==============================] - 7s 133us/sample - loss: 0.3914 - accuracy: 0.8629 - val_loss: 0.3601 - val_accuracy: 0.8756\n"
     ]
    }
   ],
   "source": [
    "history = model.fit(x_train, y_train, epochs=10, validation_data=(x_valid, y_valid))"
   ]
  },
  {
   "cell_type": "code",
   "execution_count": 42,
   "metadata": {},
   "outputs": [],
   "source": [
    "# sometimes BN works better before the activation function, sert use_bias = False\n",
    "model = keras.models.Sequential([\n",
    "    keras.layers.Flatten(input_shape=[28, 28]),\n",
    "    keras.layers.BatchNormalization(),\n",
    "    keras.layers.Dense(300, use_bias=False),\n",
    "    keras.layers.BatchNormalization(),\n",
    "    keras.layers.Activation(\"relu\"),\n",
    "    keras.layers.Dense(100, use_bias=False),\n",
    "    keras.layers.BatchNormalization(),\n",
    "    keras.layers.Activation(\"relu\"),\n",
    "    keras.layers.Dense(10, activation=\"softmax\")\n",
    "])"
   ]
  },
  {
   "cell_type": "code",
   "execution_count": 43,
   "metadata": {},
   "outputs": [],
   "source": [
    "model.compile(loss=\"sparse_categorical_crossentropy\",\n",
    "              optimizer=keras.optimizers.SGD(lr=1e-3),\n",
    "              metrics=[\"accuracy\"])"
   ]
  },
  {
   "cell_type": "code",
   "execution_count": 44,
   "metadata": {},
   "outputs": [
    {
     "name": "stdout",
     "output_type": "stream",
     "text": [
      "Train on 55000 samples, validate on 5000 samples\n",
      "Epoch 1/10\n",
      "55000/55000 [==============================] - 8s 140us/sample - loss: 1.0334 - accuracy: 0.6755 - val_loss: 0.6738 - val_accuracy: 0.7832\n",
      "Epoch 2/10\n",
      "55000/55000 [==============================] - 7s 131us/sample - loss: 0.6761 - accuracy: 0.7820 - val_loss: 0.5562 - val_accuracy: 0.8194\n",
      "Epoch 3/10\n",
      "55000/55000 [==============================] - 7s 133us/sample - loss: 0.5929 - accuracy: 0.8056 - val_loss: 0.5006 - val_accuracy: 0.8368\n",
      "Epoch 4/10\n",
      "55000/55000 [==============================] - 7s 133us/sample - loss: 0.5467 - accuracy: 0.8159 - val_loss: 0.4652 - val_accuracy: 0.8452\n",
      "Epoch 5/10\n",
      "55000/55000 [==============================] - 7s 133us/sample - loss: 0.5114 - accuracy: 0.8269 - val_loss: 0.4427 - val_accuracy: 0.8514\n",
      "Epoch 6/10\n",
      "55000/55000 [==============================] - 9s 170us/sample - loss: 0.4903 - accuracy: 0.8334 - val_loss: 0.4264 - val_accuracy: 0.8542\n",
      "Epoch 7/10\n",
      "55000/55000 [==============================] - 8s 147us/sample - loss: 0.4723 - accuracy: 0.8375 - val_loss: 0.4127 - val_accuracy: 0.8570\n",
      "Epoch 8/10\n",
      "55000/55000 [==============================] - 8s 151us/sample - loss: 0.4573 - accuracy: 0.8427 - val_loss: 0.4032 - val_accuracy: 0.8612\n",
      "Epoch 9/10\n",
      "55000/55000 [==============================] - 8s 144us/sample - loss: 0.4432 - accuracy: 0.8470 - val_loss: 0.3944 - val_accuracy: 0.8638\n",
      "Epoch 10/10\n",
      "55000/55000 [==============================] - 8s 145us/sample - loss: 0.4332 - accuracy: 0.8515 - val_loss: 0.3875 - val_accuracy: 0.8664\n"
     ]
    }
   ],
   "source": [
    "history = model.fit(x_train, y_train, epochs=10,\n",
    "                    validation_data=(x_valid, y_valid))"
   ]
  },
  {
   "cell_type": "markdown",
   "metadata": {},
   "source": [
    "# Simple use of gradient clipping"
   ]
  },
  {
   "cell_type": "code",
   "execution_count": 45,
   "metadata": {},
   "outputs": [],
   "source": [
    "optimzier = keras.optimizers.SGD(clipvalue=1.0)\n"
   ]
  },
  {
   "cell_type": "code",
   "execution_count": 46,
   "metadata": {},
   "outputs": [],
   "source": [
    "optimizer = keras.optimizers.SGD(clipnorm=1.0)"
   ]
  },
  {
   "cell_type": "markdown",
   "metadata": {},
   "source": [
    "# Pretrained Layers"
   ]
  },
  {
   "cell_type": "code",
   "execution_count": 47,
   "metadata": {},
   "outputs": [],
   "source": [
    "set_random()"
   ]
  },
  {
   "cell_type": "code",
   "execution_count": 48,
   "metadata": {},
   "outputs": [],
   "source": [
    "#split the training set into two groups \n",
    "def split_dataset(X, y):\n",
    "    y_5_or_6 = (y == 5) | (y == 6) # sandals or shirts\n",
    "    y_A = y[~y_5_or_6]\n",
    "    y_A[y_A > 6] -= 2 # class indices 7, 8, 9 should be moved to 5, 6, 7\n",
    "    y_B = (y[y_5_or_6] == 6).astype(np.float32) # binary classification task: is it a shirt (class 6)?\n",
    "    return ((X[~y_5_or_6], y_A),\n",
    "            (X[y_5_or_6], y_B))\n",
    "\n",
    "\n",
    "(x_train_A, y_train_A), (x_train_B, y_train_B) = split_dataset(x_train, y_train)\n",
    "(x_valid_A, y_valid_A), (x_valid_B, y_valid_B) = split_dataset(x_valid, y_valid)\n",
    "(x_test_A, y_test_A), (x_test_B, y_test_B) = split_dataset(x_test, y_test)\n",
    "x_train_B = x_train_B[:200]\n",
    "y_train_B = y_train_B[:200]"
   ]
  },
  {
   "cell_type": "code",
   "execution_count": 49,
   "metadata": {},
   "outputs": [],
   "source": [
    "model_A = keras.models.Sequential()\n",
    "model_A.add(keras.layers.Flatten(input_shape=[28, 28]))\n",
    "# creates a 300 layer neuron layer, 100 n, etc.\n",
    "for n_hidden in (300, 100, 50, 50, 50):\n",
    "    model_A.add(keras.layers.Dense(n_hidden, activation='selu'))\n",
    "model_A.add(keras.layers.Dense(8, activation='softmax'))"
   ]
  },
  {
   "cell_type": "code",
   "execution_count": 50,
   "metadata": {},
   "outputs": [
    {
     "name": "stdout",
     "output_type": "stream",
     "text": [
      "Model: \"sequential_7\"\n",
      "_________________________________________________________________\n",
      "Layer (type)                 Output Shape              Param #   \n",
      "=================================================================\n",
      "flatten_7 (Flatten)          (None, 784)               0         \n",
      "_________________________________________________________________\n",
      "dense_221 (Dense)            (None, 300)               235500    \n",
      "_________________________________________________________________\n",
      "dense_222 (Dense)            (None, 100)               30100     \n",
      "_________________________________________________________________\n",
      "dense_223 (Dense)            (None, 50)                5050      \n",
      "_________________________________________________________________\n",
      "dense_224 (Dense)            (None, 50)                2550      \n",
      "_________________________________________________________________\n",
      "dense_225 (Dense)            (None, 50)                2550      \n",
      "_________________________________________________________________\n",
      "dense_226 (Dense)            (None, 8)                 408       \n",
      "=================================================================\n",
      "Total params: 276,158\n",
      "Trainable params: 276,158\n",
      "Non-trainable params: 0\n",
      "_________________________________________________________________\n"
     ]
    }
   ],
   "source": [
    "model_A.summary()"
   ]
  },
  {
   "cell_type": "code",
   "execution_count": 51,
   "metadata": {},
   "outputs": [],
   "source": [
    "model_A.compile(loss='sparse_categorical_crossentropy', optimizer=keras.optimizers.SGD(lr=1e-3),\n",
    "             metrics=['accuracy'])"
   ]
  },
  {
   "cell_type": "code",
   "execution_count": 52,
   "metadata": {
    "scrolled": true
   },
   "outputs": [
    {
     "name": "stdout",
     "output_type": "stream",
     "text": [
      "Train on 43986 samples, validate on 4014 samples\n",
      "Epoch 1/20\n",
      "43986/43986 [==============================] - 4s 98us/sample - loss: 0.5902 - accuracy: 0.8130 - val_loss: 0.3782 - val_accuracy: 0.8690\n",
      "Epoch 2/20\n",
      "43986/43986 [==============================] - 4s 95us/sample - loss: 0.3517 - accuracy: 0.8785 - val_loss: 0.3371 - val_accuracy: 0.8837\n",
      "Epoch 3/20\n",
      "43986/43986 [==============================] - 4s 100us/sample - loss: 0.3162 - accuracy: 0.8896 - val_loss: 0.3016 - val_accuracy: 0.8959\n",
      "Epoch 4/20\n",
      "43986/43986 [==============================] - 5s 125us/sample - loss: 0.2969 - accuracy: 0.8973 - val_loss: 0.2912 - val_accuracy: 0.9028\n",
      "Epoch 5/20\n",
      "43986/43986 [==============================] - 5s 117us/sample - loss: 0.2831 - accuracy: 0.9026 - val_loss: 0.2816 - val_accuracy: 0.9016\n",
      "Epoch 6/20\n",
      "43986/43986 [==============================] - 7s 159us/sample - loss: 0.2725 - accuracy: 0.9066 - val_loss: 0.2736 - val_accuracy: 0.9073\n",
      "Epoch 7/20\n",
      "43986/43986 [==============================] - 6s 132us/sample - loss: 0.2644 - accuracy: 0.9094 - val_loss: 0.2651 - val_accuracy: 0.9091\n",
      "Epoch 8/20\n",
      "43986/43986 [==============================] - 7s 160us/sample - loss: 0.2577 - accuracy: 0.9117 - val_loss: 0.2580 - val_accuracy: 0.9126\n",
      "Epoch 9/20\n",
      "43986/43986 [==============================] - 7s 164us/sample - loss: 0.2516 - accuracy: 0.9137 - val_loss: 0.2580 - val_accuracy: 0.9138\n",
      "Epoch 10/20\n",
      "43986/43986 [==============================] - 5s 123us/sample - loss: 0.2465 - accuracy: 0.9152 - val_loss: 0.2521 - val_accuracy: 0.9153\n",
      "Epoch 11/20\n",
      "43986/43986 [==============================] - 6s 129us/sample - loss: 0.2419 - accuracy: 0.9179 - val_loss: 0.2490 - val_accuracy: 0.9165\n",
      "Epoch 12/20\n",
      "43986/43986 [==============================] - 6s 147us/sample - loss: 0.2381 - accuracy: 0.9190 - val_loss: 0.2456 - val_accuracy: 0.9170\n",
      "Epoch 13/20\n",
      "43986/43986 [==============================] - 5s 103us/sample - loss: 0.2347 - accuracy: 0.9196 - val_loss: 0.2448 - val_accuracy: 0.9203\n",
      "Epoch 14/20\n",
      "43986/43986 [==============================] - 4s 100us/sample - loss: 0.2311 - accuracy: 0.9205 - val_loss: 0.2432 - val_accuracy: 0.9175\n",
      "Epoch 15/20\n",
      "43986/43986 [==============================] - 4s 101us/sample - loss: 0.2282 - accuracy: 0.9220 - val_loss: 0.2432 - val_accuracy: 0.9180\n",
      "Epoch 16/20\n",
      "43986/43986 [==============================] - 4s 99us/sample - loss: 0.2255 - accuracy: 0.9227 - val_loss: 0.2410 - val_accuracy: 0.9155\n",
      "Epoch 17/20\n",
      "43986/43986 [==============================] - 4s 100us/sample - loss: 0.2228 - accuracy: 0.9226 - val_loss: 0.2370 - val_accuracy: 0.9178\n",
      "Epoch 18/20\n",
      "43986/43986 [==============================] - 4s 99us/sample - loss: 0.2201 - accuracy: 0.9245 - val_loss: 0.2431 - val_accuracy: 0.9175\n",
      "Epoch 19/20\n",
      "43986/43986 [==============================] - 4s 96us/sample - loss: 0.2176 - accuracy: 0.9252 - val_loss: 0.2607 - val_accuracy: 0.9053\n",
      "Epoch 20/20\n",
      "43986/43986 [==============================] - 4s 101us/sample - loss: 0.2158 - accuracy: 0.9265 - val_loss: 0.2328 - val_accuracy: 0.9208\n"
     ]
    }
   ],
   "source": [
    "history = model_A.fit(x_train_A, y_train_A, epochs=20, validation_data=(x_valid_A, y_valid_A))"
   ]
  },
  {
   "cell_type": "code",
   "execution_count": 53,
   "metadata": {},
   "outputs": [],
   "source": [
    "model_A.save('model_a.h5')"
   ]
  },
  {
   "cell_type": "code",
   "execution_count": 54,
   "metadata": {},
   "outputs": [],
   "source": [
    "#slightly different model, utilizing the sigmoid function as an exit\n",
    "model_b = keras.models.Sequential()\n",
    "model_b.add(keras.layers.Flatten(input_shape=[28, 28]))\n",
    "for n_hidden in (300, 100, 50, 50, 50):\n",
    "    model_b.add(keras.layers.Dense(n_hidden, activation='selu'))\n",
    "model_b.add(keras.layers.Dense(1, activation='sigmoid'))"
   ]
  },
  {
   "cell_type": "code",
   "execution_count": 55,
   "metadata": {},
   "outputs": [],
   "source": [
    "model_b.compile(loss='binary_crossentropy', optimizer=keras.optimizers.SGD(lr=1e-3),\n",
    "                metrics=['accuracy'])"
   ]
  },
  {
   "cell_type": "code",
   "execution_count": 56,
   "metadata": {},
   "outputs": [
    {
     "name": "stdout",
     "output_type": "stream",
     "text": [
      "Train on 200 samples, validate on 986 samples\n",
      "Epoch 1/20\n",
      "200/200 [==============================] - 0s 2ms/sample - loss: 0.9509 - accuracy: 0.4800 - val_loss: 0.6533 - val_accuracy: 0.5568\n",
      "Epoch 2/20\n",
      "200/200 [==============================] - 0s 304us/sample - loss: 0.5837 - accuracy: 0.7100 - val_loss: 0.4825 - val_accuracy: 0.8479\n",
      "Epoch 3/20\n",
      "200/200 [==============================] - 0s 340us/sample - loss: 0.4527 - accuracy: 0.8750 - val_loss: 0.4097 - val_accuracy: 0.8945\n",
      "Epoch 4/20\n",
      "200/200 [==============================] - 0s 497us/sample - loss: 0.3869 - accuracy: 0.9050 - val_loss: 0.3630 - val_accuracy: 0.9209\n",
      "Epoch 5/20\n",
      "200/200 [==============================] - 0s 369us/sample - loss: 0.3404 - accuracy: 0.9300 - val_loss: 0.3302 - val_accuracy: 0.9280\n",
      "Epoch 6/20\n",
      "200/200 [==============================] - 0s 466us/sample - loss: 0.3073 - accuracy: 0.9350 - val_loss: 0.3026 - val_accuracy: 0.9381\n",
      "Epoch 7/20\n",
      "200/200 [==============================] - 0s 495us/sample - loss: 0.2797 - accuracy: 0.9400 - val_loss: 0.2790 - val_accuracy: 0.9452\n",
      "Epoch 8/20\n",
      "200/200 [==============================] - 0s 311us/sample - loss: 0.2554 - accuracy: 0.9450 - val_loss: 0.2595 - val_accuracy: 0.9473\n",
      "Epoch 9/20\n",
      "200/200 [==============================] - 0s 492us/sample - loss: 0.2355 - accuracy: 0.9600 - val_loss: 0.2439 - val_accuracy: 0.9493\n",
      "Epoch 10/20\n",
      "200/200 [==============================] - 0s 532us/sample - loss: 0.2187 - accuracy: 0.9650 - val_loss: 0.2293 - val_accuracy: 0.9523\n",
      "Epoch 11/20\n",
      "200/200 [==============================] - 0s 544us/sample - loss: 0.2041 - accuracy: 0.9650 - val_loss: 0.2162 - val_accuracy: 0.9544\n",
      "Epoch 12/20\n",
      "200/200 [==============================] - 0s 447us/sample - loss: 0.1906 - accuracy: 0.9650 - val_loss: 0.2049 - val_accuracy: 0.9574\n",
      "Epoch 13/20\n",
      "200/200 [==============================] - 0s 514us/sample - loss: 0.1791 - accuracy: 0.9700 - val_loss: 0.1946 - val_accuracy: 0.9594\n",
      "Epoch 14/20\n",
      "200/200 [==============================] - 0s 455us/sample - loss: 0.1686 - accuracy: 0.9750 - val_loss: 0.1856 - val_accuracy: 0.9615\n",
      "Epoch 15/20\n",
      "200/200 [==============================] - 0s 377us/sample - loss: 0.1591 - accuracy: 0.9750 - val_loss: 0.1765 - val_accuracy: 0.9655\n",
      "Epoch 16/20\n",
      "200/200 [==============================] - 0s 465us/sample - loss: 0.1502 - accuracy: 0.9900 - val_loss: 0.1695 - val_accuracy: 0.9655\n",
      "Epoch 17/20\n",
      "200/200 [==============================] - 0s 473us/sample - loss: 0.1424 - accuracy: 0.9900 - val_loss: 0.1624 - val_accuracy: 0.9686\n",
      "Epoch 18/20\n",
      "200/200 [==============================] - 0s 485us/sample - loss: 0.1351 - accuracy: 0.9900 - val_loss: 0.1567 - val_accuracy: 0.9686\n",
      "Epoch 19/20\n",
      "200/200 [==============================] - 0s 352us/sample - loss: 0.1290 - accuracy: 0.9900 - val_loss: 0.1513 - val_accuracy: 0.9696\n",
      "Epoch 20/20\n",
      "200/200 [==============================] - 0s 370us/sample - loss: 0.1229 - accuracy: 0.9900 - val_loss: 0.1450 - val_accuracy: 0.9696\n"
     ]
    }
   ],
   "source": [
    "history = model_b.fit(x_train_B, y_train_B, epochs=20, validation_data=(x_valid_B, y_valid_B))"
   ]
  },
  {
   "cell_type": "markdown",
   "metadata": {},
   "source": [
    "#### model a and b combo,  "
   ]
  },
  {
   "cell_type": "code",
   "execution_count": 57,
   "metadata": {},
   "outputs": [],
   "source": [
    "#combining the models\n",
    "model_A = keras.models.load_model('model_a.h5')\n",
    "#grab all except for the exit layer\n",
    "model_B_on_A = keras.models.Sequential(model_A.layers[:-1])\n",
    "#apply last layer with sigmoid\n",
    "model_B_on_A.add(keras.layers.Dense(1, activation='sigmoid'))"
   ]
  },
  {
   "cell_type": "markdown",
   "metadata": {},
   "source": [
    " prevent all the layers from model_a from being trained, bc during intial training since the errors will be quite large, otherwise the weights will be changed in the earlier layers"
   ]
  },
  {
   "cell_type": "code",
   "execution_count": 58,
   "metadata": {},
   "outputs": [],
   "source": [
    "#prevent training during first iterations\n",
    "for layer in model_B_on_A.layers[:-1]:\n",
    "    layer.trainable = False\n",
    "    \n",
    "model_B_on_A.compile(loss='binary_crossentropy', optimizer=keras.optimizers.SGD(lr=1e-3),\n",
    "                    metrics=['accuracy'])"
   ]
  },
  {
   "cell_type": "code",
   "execution_count": 59,
   "metadata": {},
   "outputs": [
    {
     "name": "stdout",
     "output_type": "stream",
     "text": [
      "Train on 200 samples, validate on 986 samples\n",
      "Epoch 1/4\n",
      "200/200 [==============================] - 0s 2ms/sample - loss: 0.5650 - accuracy: 0.6650 - val_loss: 0.5694 - val_accuracy: 0.6531\n",
      "Epoch 2/4\n",
      "200/200 [==============================] - 0s 276us/sample - loss: 0.5278 - accuracy: 0.7050 - val_loss: 0.5361 - val_accuracy: 0.6947\n",
      "Epoch 3/4\n",
      "200/200 [==============================] - 0s 415us/sample - loss: 0.4950 - accuracy: 0.7400 - val_loss: 0.5060 - val_accuracy: 0.7160\n",
      "Epoch 4/4\n",
      "200/200 [==============================] - 0s 352us/sample - loss: 0.4655 - accuracy: 0.7600 - val_loss: 0.4794 - val_accuracy: 0.7383\n"
     ]
    }
   ],
   "source": [
    "history = model_B_on_A.fit(x_train_B, y_train_B, epochs=4, validation_data=(x_valid_B, y_valid_B))"
   ]
  },
  {
   "cell_type": "code",
   "execution_count": 60,
   "metadata": {},
   "outputs": [
    {
     "name": "stdout",
     "output_type": "stream",
     "text": [
      "Train on 200 samples, validate on 986 samples\n",
      "Epoch 1/16\n",
      "200/200 [==============================] - 0s 2ms/sample - loss: 0.3883 - accuracy: 0.8200 - val_loss: 0.3367 - val_accuracy: 0.8671\n",
      "Epoch 2/16\n",
      "200/200 [==============================] - 0s 319us/sample - loss: 0.2711 - accuracy: 0.9350 - val_loss: 0.2614 - val_accuracy: 0.9239\n",
      "Epoch 3/16\n",
      "200/200 [==============================] - 0s 366us/sample - loss: 0.2088 - accuracy: 0.9650 - val_loss: 0.2153 - val_accuracy: 0.9503\n",
      "Epoch 4/16\n",
      "200/200 [==============================] - 0s 405us/sample - loss: 0.1699 - accuracy: 0.9800 - val_loss: 0.1842 - val_accuracy: 0.9625\n",
      "Epoch 5/16\n",
      "200/200 [==============================] - 0s 352us/sample - loss: 0.1431 - accuracy: 0.9800 - val_loss: 0.1603 - val_accuracy: 0.9706\n",
      "Epoch 6/16\n",
      "200/200 [==============================] - 0s 426us/sample - loss: 0.1223 - accuracy: 0.9850 - val_loss: 0.1425 - val_accuracy: 0.9787\n",
      "Epoch 7/16\n",
      "200/200 [==============================] - 0s 441us/sample - loss: 0.1068 - accuracy: 0.9950 - val_loss: 0.1294 - val_accuracy: 0.9828\n",
      "Epoch 8/16\n",
      "200/200 [==============================] - 0s 420us/sample - loss: 0.0954 - accuracy: 0.9950 - val_loss: 0.1187 - val_accuracy: 0.9848\n",
      "Epoch 9/16\n",
      "200/200 [==============================] - 0s 360us/sample - loss: 0.0859 - accuracy: 0.9950 - val_loss: 0.1100 - val_accuracy: 0.9848\n",
      "Epoch 10/16\n",
      "200/200 [==============================] - 0s 455us/sample - loss: 0.0783 - accuracy: 1.0000 - val_loss: 0.1027 - val_accuracy: 0.9878\n",
      "Epoch 11/16\n",
      "200/200 [==============================] - 0s 399us/sample - loss: 0.0721 - accuracy: 1.0000 - val_loss: 0.0965 - val_accuracy: 0.9878\n",
      "Epoch 12/16\n",
      "200/200 [==============================] - 0s 336us/sample - loss: 0.0666 - accuracy: 1.0000 - val_loss: 0.0907 - val_accuracy: 0.9888\n",
      "Epoch 13/16\n",
      "200/200 [==============================] - 0s 379us/sample - loss: 0.0616 - accuracy: 1.0000 - val_loss: 0.0863 - val_accuracy: 0.9899\n",
      "Epoch 14/16\n",
      "200/200 [==============================] - 0s 495us/sample - loss: 0.0576 - accuracy: 1.0000 - val_loss: 0.0819 - val_accuracy: 0.9899\n",
      "Epoch 15/16\n",
      "200/200 [==============================] - 0s 447us/sample - loss: 0.0538 - accuracy: 1.0000 - val_loss: 0.0783 - val_accuracy: 0.9899\n",
      "Epoch 16/16\n",
      "200/200 [==============================] - 0s 459us/sample - loss: 0.0506 - accuracy: 1.0000 - val_loss: 0.0752 - val_accuracy: 0.9899\n"
     ]
    },
    {
     "data": {
      "text/plain": [
       "<tensorflow.python.keras.callbacks.History at 0x7fa9b92ed898>"
      ]
     },
     "execution_count": 60,
     "metadata": {},
     "output_type": "execute_result"
    }
   ],
   "source": [
    "#allow the weights to now be adjusted post-intial training of the combined model\n",
    "for layer in model_B_on_A.layers[:-1]:\n",
    "    layer.trainable = True\n",
    "    \n",
    "model_B_on_A.compile(loss='binary_crossentropy', optimizer=keras.optimizers.SGD(lr=1e-3), \n",
    "                    metrics=['accuracy'])\n",
    "model_B_on_A.fit(x_train_B, y_train_B, epochs=16, validation_data=(x_valid_B, y_valid_B))"
   ]
  },
  {
   "cell_type": "code",
   "execution_count": 61,
   "metadata": {},
   "outputs": [
    {
     "name": "stdout",
     "output_type": "stream",
     "text": [
      "2000/2000 [==============================] - 0s 46us/sample - loss: 0.0698 - accuracy: 0.9925\n"
     ]
    },
    {
     "data": {
      "text/plain": [
       "[0.0697787880897522, 0.9925]"
      ]
     },
     "execution_count": 61,
     "metadata": {},
     "output_type": "execute_result"
    }
   ],
   "source": [
    "model_B_on_A.evaluate(x_test_B, y_test_B)"
   ]
  },
  {
   "cell_type": "code",
   "execution_count": 66,
   "metadata": {},
   "outputs": [
    {
     "data": {
      "text/plain": [
       "3.933333333333337"
      ]
     },
     "execution_count": 66,
     "metadata": {},
     "output_type": "execute_result"
    }
   ],
   "source": [
    "#comparison of the two models\n",
    "(100 -97.05) / (100 - 99.25)\n",
    "#almost 4 times better"
   ]
  },
  {
   "cell_type": "markdown",
   "metadata": {},
   "source": [
    "## Cloning weights from one model to the next"
   ]
  },
  {
   "cell_type": "code",
   "execution_count": 64,
   "metadata": {},
   "outputs": [],
   "source": [
    "model_A_clone = keras.models.clone_model(model_A)\n",
    "model_A_clone.set_weights(model_A.get_weights())"
   ]
  },
  {
   "cell_type": "markdown",
   "metadata": {},
   "source": [
    "# Other Optimizers (Faster)"
   ]
  },
  {
   "cell_type": "code",
   "execution_count": 67,
   "metadata": {},
   "outputs": [],
   "source": [
    "momentum_optimizer = keras.optimizers.SGD(lr=0.001, momentum=0.9)"
   ]
  },
  {
   "cell_type": "code",
   "execution_count": 73,
   "metadata": {},
   "outputs": [],
   "source": [
    "nestrov_accelerated_gradient_optimizer = keras.optimizers.SGD(lr=0.001, momentum=0.9, nesterov= True)"
   ]
  },
  {
   "cell_type": "code",
   "execution_count": 69,
   "metadata": {},
   "outputs": [],
   "source": [
    "adagrad_optimizer = keras.optimizers.Adagrad(lr=0.0001)"
   ]
  },
  {
   "cell_type": "code",
   "execution_count": 77,
   "metadata": {},
   "outputs": [],
   "source": [
    "rmsprop_optimizer = keras.optimizers.RMSprop(lr=0.001, rho=0.9)\n",
    "#rho = intial decay rate"
   ]
  },
  {
   "cell_type": "markdown",
   "metadata": {},
   "source": [
    "Beta_1 = momentum decay rate typically 0.9\n",
    "Beta_2 = scaling decay rate typically initalized to 0.999"
   ]
  },
  {
   "cell_type": "code",
   "execution_count": 78,
   "metadata": {},
   "outputs": [],
   "source": [
    "adam_optimizer = keras.optimizers.Adam(lr=0.001, beta_1=0.9, beta_2=0.999)"
   ]
  },
  {
   "cell_type": "code",
   "execution_count": 75,
   "metadata": {},
   "outputs": [],
   "source": [
    "adamax_optimizer = keras.optimizers.Adamax(lr=0.001, beta_1=0.9, beta_2=0.999)"
   ]
  },
  {
   "cell_type": "code",
   "execution_count": 76,
   "metadata": {},
   "outputs": [],
   "source": [
    "#nestrov adam\n",
    "nadam_optimizer = keras.optimizers.Nadam(lr=0.001, beta_1=0.9, beta_2=0.999)"
   ]
  },
  {
   "cell_type": "markdown",
   "metadata": {},
   "source": [
    "# Learning Rate Scheduling"
   ]
  },
  {
   "cell_type": "markdown",
   "metadata": {},
   "source": [
    "### Power Scheduling:\n",
    "   setting the learning rate as a function to the number of iterations"
   ]
  },
  {
   "cell_type": "code",
   "execution_count": 82,
   "metadata": {},
   "outputs": [],
   "source": [
    "#default\n",
    "power_scheduler = keras.optimizers.SGD(lr=0.01, decay=1e-4)"
   ]
  },
  {
   "cell_type": "code",
   "execution_count": 80,
   "metadata": {},
   "outputs": [],
   "source": [
    "model = keras.models.Sequential([\n",
    "    keras.layers.Flatten(input_shape=[28, 28]),\n",
    "    keras.layers.Dense(300, activation='selu', kernel_initializer='lecun_normal'),\n",
    "    keras.layers.Dense(100, activation='selu', kernel_initializer='lecun_normal'),\n",
    "    keras.layers.Dense(10, activation='softmax')\n",
    "])\n",
    "\n",
    "model.compile(loss='sparse_categorical_crossentropy', optimizer=power_scheduler, metrics=['accuracy'])"
   ]
  },
  {
   "cell_type": "code",
   "execution_count": 81,
   "metadata": {},
   "outputs": [
    {
     "name": "stdout",
     "output_type": "stream",
     "text": [
      "Train on 55000 samples, validate on 5000 samples\n",
      "Epoch 1/25\n",
      "55000/55000 [==============================] - 7s 132us/sample - loss: 0.4887 - accuracy: 0.8295 - val_loss: 0.8514 - val_accuracy: 0.6974\n",
      "Epoch 2/25\n",
      "55000/55000 [==============================] - 7s 130us/sample - loss: 0.3821 - accuracy: 0.8639 - val_loss: 0.8081 - val_accuracy: 0.7328\n",
      "Epoch 3/25\n",
      "55000/55000 [==============================] - 6s 109us/sample - loss: 0.3486 - accuracy: 0.8756 - val_loss: 0.7690 - val_accuracy: 0.7598\n",
      "Epoch 4/25\n",
      "55000/55000 [==============================] - 7s 128us/sample - loss: 0.3268 - accuracy: 0.8845 - val_loss: 0.7861 - val_accuracy: 0.7440\n",
      "Epoch 5/25\n",
      "55000/55000 [==============================] - 6s 115us/sample - loss: 0.3103 - accuracy: 0.8881 - val_loss: 0.8373 - val_accuracy: 0.7040\n",
      "Epoch 6/25\n",
      "55000/55000 [==============================] - 8s 151us/sample - loss: 0.2977 - accuracy: 0.8931 - val_loss: 0.8091 - val_accuracy: 0.7240\n",
      "Epoch 7/25\n",
      "55000/55000 [==============================] - 8s 145us/sample - loss: 0.2868 - accuracy: 0.8979 - val_loss: 0.8100 - val_accuracy: 0.7192\n",
      "Epoch 8/25\n",
      "55000/55000 [==============================] - 7s 126us/sample - loss: 0.2778 - accuracy: 0.8999 - val_loss: 0.8322 - val_accuracy: 0.6898\n",
      "Epoch 9/25\n",
      "55000/55000 [==============================] - 6s 115us/sample - loss: 0.2695 - accuracy: 0.9042 - val_loss: 0.8227 - val_accuracy: 0.7110\n",
      "Epoch 10/25\n",
      "55000/55000 [==============================] - 6s 109us/sample - loss: 0.2622 - accuracy: 0.9069 - val_loss: 0.7952 - val_accuracy: 0.7250\n",
      "Epoch 11/25\n",
      "55000/55000 [==============================] - 7s 127us/sample - loss: 0.2562 - accuracy: 0.9090 - val_loss: 0.8429 - val_accuracy: 0.6888\n",
      "Epoch 12/25\n",
      "55000/55000 [==============================] - 8s 139us/sample - loss: 0.2505 - accuracy: 0.9114 - val_loss: 0.8343 - val_accuracy: 0.6888\n",
      "Epoch 13/25\n",
      "55000/55000 [==============================] - 6s 115us/sample - loss: 0.2452 - accuracy: 0.9127 - val_loss: 0.8411 - val_accuracy: 0.6948\n",
      "Epoch 14/25\n",
      "55000/55000 [==============================] - 6s 106us/sample - loss: 0.2404 - accuracy: 0.9149 - val_loss: 0.8035 - val_accuracy: 0.7236\n",
      "Epoch 15/25\n",
      "55000/55000 [==============================] - 6s 118us/sample - loss: 0.2360 - accuracy: 0.9171 - val_loss: 0.8778 - val_accuracy: 0.6874\n",
      "Epoch 16/25\n",
      "55000/55000 [==============================] - 6s 118us/sample - loss: 0.2318 - accuracy: 0.9185 - val_loss: 0.8529 - val_accuracy: 0.6962\n",
      "Epoch 17/25\n",
      "55000/55000 [==============================] - 6s 117us/sample - loss: 0.2285 - accuracy: 0.9197 - val_loss: 0.8507 - val_accuracy: 0.6942\n",
      "Epoch 18/25\n",
      "55000/55000 [==============================] - 5s 99us/sample - loss: 0.2245 - accuracy: 0.9209 - val_loss: 0.8714 - val_accuracy: 0.6830\n",
      "Epoch 19/25\n",
      "55000/55000 [==============================] - 5s 96us/sample - loss: 0.2211 - accuracy: 0.9218 - val_loss: 0.8681 - val_accuracy: 0.6786\n",
      "Epoch 20/25\n",
      "55000/55000 [==============================] - 5s 98us/sample - loss: 0.2180 - accuracy: 0.9238 - val_loss: 0.9008 - val_accuracy: 0.6764\n",
      "Epoch 21/25\n",
      "55000/55000 [==============================] - 5s 96us/sample - loss: 0.2151 - accuracy: 0.9245 - val_loss: 0.8829 - val_accuracy: 0.6802\n",
      "Epoch 22/25\n",
      "55000/55000 [==============================] - 6s 100us/sample - loss: 0.2120 - accuracy: 0.9267 - val_loss: 0.8741 - val_accuracy: 0.6796\n",
      "Epoch 23/25\n",
      "55000/55000 [==============================] - 5s 96us/sample - loss: 0.2094 - accuracy: 0.9265 - val_loss: 0.8963 - val_accuracy: 0.6730\n",
      "Epoch 24/25\n",
      "55000/55000 [==============================] - 5s 99us/sample - loss: 0.2067 - accuracy: 0.9278 - val_loss: 0.9151 - val_accuracy: 0.6684\n",
      "Epoch 25/25\n",
      "55000/55000 [==============================] - 5s 97us/sample - loss: 0.2047 - accuracy: 0.9294 - val_loss: 0.9095 - val_accuracy: 0.6510\n"
     ]
    }
   ],
   "source": [
    "n_epochs = 25\n",
    "history = model.fit(x_train_scaled, y_train, epochs=n_epochs, validation_data=(x_valid, y_valid))"
   ]
  },
  {
   "cell_type": "markdown",
   "metadata": {},
   "source": [
    "### Exponential Scheduling:\n",
    "    every 10 times the learning rate is reduced "
   ]
  },
  {
   "cell_type": "code",
   "execution_count": 84,
   "metadata": {},
   "outputs": [],
   "source": [
    "# exponential decay by epoch\n",
    "def exponential_decay(learning_rate, s):\n",
    "    def exponential_decay_fn(epoch):\n",
    "        return learning_rate*0.1**(epoch /s)\n",
    "    return exponential_decay_fn\n",
    "\n",
    "exponential_decay_fn = exponential_decay(learning_rate=0.01, s=20)"
   ]
  },
  {
   "cell_type": "code",
   "execution_count": 85,
   "metadata": {},
   "outputs": [],
   "source": [
    "model = keras.models.Sequential([\n",
    "    keras.layers.Flatten(input_shape=[28, 28]),\n",
    "    keras.layers.Dense(300, activation='selu', kernel_initializer='lecun_normal'),\n",
    "    keras.layers.Dense(100, activation='selu', kernel_initializer='lecun_normal'),\n",
    "    keras.layers.Dense(10, activation='softmax')\n",
    "])\n",
    "model.compile(loss='sparse_categorical_crossentropy', optimizer='nadam', metrics=['accuracy'])\n",
    "n_epochs = 25"
   ]
  },
  {
   "cell_type": "code",
   "execution_count": 86,
   "metadata": {},
   "outputs": [
    {
     "name": "stdout",
     "output_type": "stream",
     "text": [
      "Train on 55000 samples, validate on 5000 samples\n",
      "Epoch 1/25\n",
      "55000/55000 [==============================] - 12s 213us/sample - loss: 0.8525 - accuracy: 0.7566 - val_loss: 0.6998 - val_accuracy: 0.7630\n",
      "Epoch 2/25\n",
      "55000/55000 [==============================] - 11s 201us/sample - loss: 0.6670 - accuracy: 0.7962 - val_loss: 0.7725 - val_accuracy: 0.7234\n",
      "Epoch 3/25\n",
      "55000/55000 [==============================] - 11s 196us/sample - loss: 0.6302 - accuracy: 0.8084 - val_loss: 0.6147 - val_accuracy: 0.8020\n",
      "Epoch 4/25\n",
      "55000/55000 [==============================] - 11s 199us/sample - loss: 0.5487 - accuracy: 0.8307 - val_loss: 0.6762 - val_accuracy: 0.8400\n",
      "Epoch 5/25\n",
      "55000/55000 [==============================] - 11s 196us/sample - loss: 0.4942 - accuracy: 0.8437 - val_loss: 0.4863 - val_accuracy: 0.8606\n",
      "Epoch 6/25\n",
      "55000/55000 [==============================] - 11s 198us/sample - loss: 0.4377 - accuracy: 0.8602 - val_loss: 0.4912 - val_accuracy: 0.8492\n",
      "Epoch 7/25\n",
      "55000/55000 [==============================] - 11s 199us/sample - loss: 0.4124 - accuracy: 0.8674 - val_loss: 0.5068 - val_accuracy: 0.8378\n",
      "Epoch 8/25\n",
      "55000/55000 [==============================] - 11s 202us/sample - loss: 0.3823 - accuracy: 0.8755 - val_loss: 0.4768 - val_accuracy: 0.8626\n",
      "Epoch 9/25\n",
      "55000/55000 [==============================] - 11s 197us/sample - loss: 0.3502 - accuracy: 0.8832 - val_loss: 0.4573 - val_accuracy: 0.8716\n",
      "Epoch 10/25\n",
      "55000/55000 [==============================] - 11s 206us/sample - loss: 0.3259 - accuracy: 0.8902 - val_loss: 0.5990 - val_accuracy: 0.8652\n",
      "Epoch 11/25\n",
      "55000/55000 [==============================] - 11s 201us/sample - loss: 0.3024 - accuracy: 0.8980 - val_loss: 0.4288 - val_accuracy: 0.8786\n",
      "Epoch 12/25\n",
      "55000/55000 [==============================] - 11s 203us/sample - loss: 0.2811 - accuracy: 0.9051 - val_loss: 0.4472 - val_accuracy: 0.8760\n",
      "Epoch 13/25\n",
      "55000/55000 [==============================] - 11s 206us/sample - loss: 0.2609 - accuracy: 0.9104 - val_loss: 0.4295 - val_accuracy: 0.8840\n",
      "Epoch 14/25\n",
      "55000/55000 [==============================] - 11s 206us/sample - loss: 0.2430 - accuracy: 0.9155 - val_loss: 0.4278 - val_accuracy: 0.8892\n",
      "Epoch 15/25\n",
      "55000/55000 [==============================] - 15s 274us/sample - loss: 0.2262 - accuracy: 0.9211 - val_loss: 0.4552 - val_accuracy: 0.8848\n",
      "Epoch 16/25\n",
      "55000/55000 [==============================] - 20s 367us/sample - loss: 0.2127 - accuracy: 0.9275 - val_loss: 0.4878 - val_accuracy: 0.8792\n",
      "Epoch 17/25\n",
      "55000/55000 [==============================] - 18s 335us/sample - loss: 0.1989 - accuracy: 0.9334 - val_loss: 0.4691 - val_accuracy: 0.8860\n",
      "Epoch 18/25\n",
      "55000/55000 [==============================] - 17s 315us/sample - loss: 0.1807 - accuracy: 0.9379 - val_loss: 0.5106 - val_accuracy: 0.8858\n",
      "Epoch 19/25\n",
      "55000/55000 [==============================] - 18s 321us/sample - loss: 0.1698 - accuracy: 0.9423 - val_loss: 0.5280 - val_accuracy: 0.8824\n",
      "Epoch 20/25\n",
      "55000/55000 [==============================] - 15s 268us/sample - loss: 0.1580 - accuracy: 0.9468 - val_loss: 0.5419 - val_accuracy: 0.8878\n",
      "Epoch 21/25\n",
      "55000/55000 [==============================] - 12s 211us/sample - loss: 0.1479 - accuracy: 0.9510 - val_loss: 0.5643 - val_accuracy: 0.8874\n",
      "Epoch 22/25\n",
      "55000/55000 [==============================] - 12s 212us/sample - loss: 0.1356 - accuracy: 0.9555 - val_loss: 0.6002 - val_accuracy: 0.8898\n",
      "Epoch 23/25\n",
      "55000/55000 [==============================] - 11s 209us/sample - loss: 0.1279 - accuracy: 0.9584 - val_loss: 0.6033 - val_accuracy: 0.8894\n",
      "Epoch 24/25\n",
      "55000/55000 [==============================] - 12s 210us/sample - loss: 0.1203 - accuracy: 0.9609 - val_loss: 0.6240 - val_accuracy: 0.8852\n",
      "Epoch 25/25\n",
      "55000/55000 [==============================] - 12s 210us/sample - loss: 0.1116 - accuracy: 0.9645 - val_loss: 0.6228 - val_accuracy: 0.8888\n"
     ]
    }
   ],
   "source": [
    "learning_rate_scheduler = keras.callbacks.LearningRateScheduler(exponential_decay_fn)\n",
    "\n",
    "history = model.fit(x_train_scaled, y_train, epochs=n_epochs, validation_data=(x_valid_scaled, y_valid),\n",
    "                   callbacks=[learning_rate_scheduler])"
   ]
  },
  {
   "cell_type": "code",
   "execution_count": 88,
   "metadata": {},
   "outputs": [
    {
     "data": {
      "image/png": "[encoded data removed]",
      "text/plain": [
       "<Figure size 432x288 with 1 Axes>"
      ]
     },
     "metadata": {
      "needs_background": "light"
     },
     "output_type": "display_data"
    }
   ],
   "source": [
    "#visualization of the change of the learning curves\n",
    "plt.plot(history.epoch, history.history[\"lr\"], \"o-\")\n",
    "plt.axis([0, n_epochs -1, 0, 0.011])\n",
    "plt.xlabel(\"Epoch\")\n",
    "plt.ylabel(\"Learning Rate\")\n",
    "plt.title(\"Exponential Scheduling\", fontsize=14)\n",
    "plt.grid(True)\n",
    "plt.show()\n"
   ]
  },
  {
   "cell_type": "code",
   "execution_count": 96,
   "metadata": {},
   "outputs": [],
   "source": [
    "#updating the learning rate on each iteration compared to each epoch\n",
    "K = keras.backend\n",
    "\n",
    "class ExponentialDecay(keras.callbacks.Callback):\n",
    "    def __init__(self, s=40000):\n",
    "        super().__init__()\n",
    "        self.s = s\n",
    "    #function names need to be exact to run\n",
    "    def on_batch_begin(self, batch, logs= None):\n",
    "        lr = K.get_value(self.model.optimizer.lr)\n",
    "        K.set_value(self.model.optimizer.lr, lr * 0.1**(1/s))\n",
    "        \n",
    "    def on_epoch_end(self, epoch, logs=None):\n",
    "        logs= logs or {}\n",
    "        logs['lr'] = K.get_value(self.model.optimizer.lr)\n",
    "        "
   ]
  },
  {
   "cell_type": "code",
   "execution_count": 97,
   "metadata": {},
   "outputs": [
    {
     "name": "stdout",
     "output_type": "stream",
     "text": [
      "Train on 55000 samples, validate on 5000 samples\n",
      "Epoch 1/25\n",
      "55000/55000 [==============================] - 34s 609us/sample - loss: 0.7972 - accuracy: 0.7657 - val_loss: 0.7054 - val_accuracy: 0.7094\n",
      "Epoch 2/25\n",
      "55000/55000 [==============================] - 32s 576us/sample - loss: 0.6656 - accuracy: 0.7985 - val_loss: 0.6093 - val_accuracy: 0.8108\n",
      "Epoch 3/25\n",
      "55000/55000 [==============================] - 30s 551us/sample - loss: 0.5741 - accuracy: 0.8208 - val_loss: 0.5821 - val_accuracy: 0.8092\n",
      "Epoch 4/25\n",
      "55000/55000 [==============================] - 33s 593us/sample - loss: 0.5184 - accuracy: 0.8371 - val_loss: 0.6780 - val_accuracy: 0.8416\n",
      "Epoch 5/25\n",
      "55000/55000 [==============================] - 33s 604us/sample - loss: 0.4665 - accuracy: 0.8508 - val_loss: 0.4713 - val_accuracy: 0.8492\n",
      "Epoch 6/25\n",
      "55000/55000 [==============================] - 31s 569us/sample - loss: 0.4376 - accuracy: 0.8596 - val_loss: 0.5338 - val_accuracy: 0.8500\n",
      "Epoch 7/25\n",
      "55000/55000 [==============================] - 32s 584us/sample - loss: 0.4054 - accuracy: 0.8688 - val_loss: 0.5742 - val_accuracy: 0.8620\n",
      "Epoch 8/25\n",
      "55000/55000 [==============================] - 19s 340us/sample - loss: 0.3846 - accuracy: 0.8772 - val_loss: 0.4735 - val_accuracy: 0.8584\n",
      "Epoch 9/25\n",
      "55000/55000 [==============================] - 13s 233us/sample - loss: 0.3373 - accuracy: 0.8867 - val_loss: 0.4454 - val_accuracy: 0.8758\n",
      "Epoch 10/25\n",
      "55000/55000 [==============================] - 13s 235us/sample - loss: 0.3231 - accuracy: 0.8925 - val_loss: 0.4382 - val_accuracy: 0.8730\n",
      "Epoch 11/25\n",
      "55000/55000 [==============================] - 13s 237us/sample - loss: 0.2945 - accuracy: 0.8996 - val_loss: 0.4400 - val_accuracy: 0.8796\n",
      "Epoch 12/25\n",
      "55000/55000 [==============================] - 13s 234us/sample - loss: 0.2772 - accuracy: 0.9072 - val_loss: 0.4299 - val_accuracy: 0.8794\n",
      "Epoch 13/25\n",
      "55000/55000 [==============================] - 13s 237us/sample - loss: 0.2510 - accuracy: 0.9139 - val_loss: 0.4707 - val_accuracy: 0.8826\n",
      "Epoch 14/25\n",
      "55000/55000 [==============================] - 12s 224us/sample - loss: 0.2394 - accuracy: 0.9179 - val_loss: 0.4933 - val_accuracy: 0.8822\n",
      "Epoch 15/25\n",
      "55000/55000 [==============================] - 13s 232us/sample - loss: 0.2215 - accuracy: 0.9240 - val_loss: 0.5031 - val_accuracy: 0.8794\n",
      "Epoch 16/25\n",
      "55000/55000 [==============================] - 13s 233us/sample - loss: 0.2033 - accuracy: 0.9299 - val_loss: 0.4842 - val_accuracy: 0.8816\n",
      "Epoch 17/25\n",
      "55000/55000 [==============================] - 13s 243us/sample - loss: 0.1872 - accuracy: 0.9360 - val_loss: 0.4680 - val_accuracy: 0.8886\n",
      "Epoch 18/25\n",
      "55000/55000 [==============================] - 16s 284us/sample - loss: 0.1767 - accuracy: 0.9401 - val_loss: 0.5036 - val_accuracy: 0.8892\n",
      "Epoch 19/25\n",
      "55000/55000 [==============================] - 14s 254us/sample - loss: 0.1632 - accuracy: 0.9447 - val_loss: 0.5283 - val_accuracy: 0.8842\n",
      "Epoch 20/25\n",
      "55000/55000 [==============================] - 13s 240us/sample - loss: 0.1524 - accuracy: 0.9487 - val_loss: 0.4802 - val_accuracy: 0.8876\n",
      "Epoch 21/25\n",
      "55000/55000 [==============================] - 14s 247us/sample - loss: 0.1447 - accuracy: 0.9519 - val_loss: 0.5397 - val_accuracy: 0.8874\n",
      "Epoch 22/25\n",
      "55000/55000 [==============================] - 14s 250us/sample - loss: 0.1318 - accuracy: 0.9564 - val_loss: 0.5565 - val_accuracy: 0.8872\n",
      "Epoch 23/25\n",
      "55000/55000 [==============================] - 14s 249us/sample - loss: 0.1252 - accuracy: 0.9591 - val_loss: 0.5674 - val_accuracy: 0.8874\n",
      "Epoch 24/25\n",
      "55000/55000 [==============================] - 14s 253us/sample - loss: 0.1173 - accuracy: 0.9627 - val_loss: 0.6197 - val_accuracy: 0.8874\n",
      "Epoch 25/25\n",
      "55000/55000 [==============================] - 15s 271us/sample - loss: 0.1105 - accuracy: 0.9651 - val_loss: 0.6037 - val_accuracy: 0.8878\n"
     ]
    }
   ],
   "source": [
    "model = keras.models.Sequential([\n",
    "    keras.layers.Flatten(input_shape=[28, 28]),\n",
    "    keras.layers.Dense(300, activation='selu', kernel_initializer='lecun_normal'),\n",
    "    keras.layers.Dense(100, activation='selu', kernel_initializer='lecun_normal'),\n",
    "    keras.layers.Dense(10, activation='softmax')\n",
    "])\n",
    "\n",
    "learning_rate = 0.01 \n",
    "optimizer = keras.optimizers.Nadam(lr=learning_rate)\n",
    "\n",
    "model.compile(loss='sparse_categorical_crossentropy', optimizer=optimizer, metrics=['accuracy'])\n",
    "n_epochs = 25\n",
    "\n",
    "s = 20 * len(x_train) // 32 #the number of steps in 20 epochs with a batch size of 32\n",
    "exp_decay = ExponentialDecay(s)\n",
    "\n",
    "history = model.fit(x_train_scaled, y_train, epochs=n_epochs, validation_data=(x_valid_scaled, y_valid),\n",
    "                   callbacks=[exp_decay])"
   ]
  },
  {
   "cell_type": "markdown",
   "metadata": {},
   "source": [
    "### PIecewise Constant Scheduling"
   ]
  },
  {
   "cell_type": "code",
   "execution_count": 98,
   "metadata": {},
   "outputs": [],
   "source": [
    "# Hard coded\n",
    "def piecewise_constant_fn(epoch):\n",
    "    if epoch< 5:\n",
    "        return 0.01\n",
    "    elif epoch < 15:\n",
    "        return 0.005\n",
    "    else:\n",
    "        return 0.001"
   ]
  },
  {
   "cell_type": "code",
   "execution_count": 106,
   "metadata": {},
   "outputs": [],
   "source": [
    "#soft coded\n",
    "def piecewise_constant(boundaries, values):\n",
    "    boundaries = np.array([0] + boundaries)\n",
    "    values = np.array(values)\n",
    "    def piecewise_constant_fn(epoch):\n",
    "        return values[np.argmax(boundaries > epoch) - 1]\n",
    "    return piecewise_constant_fn\n",
    "\n",
    "piecewise_constant_fn = piecewise_constant([5,15], [0.01, 0.005, 0.001])"
   ]
  },
  {
   "cell_type": "code",
   "execution_count": 107,
   "metadata": {},
   "outputs": [],
   "source": [
    "learning_rate_scheduler = keras.callbacks.LearningRateScheduler(piecewise_constant_fn)\n",
    "\n",
    "model = keras.models.Sequential([\n",
    "    keras.layers.Flatten(input_shape=[28, 28]),\n",
    "    keras.layers.Dense(300, activation='selu', kernel_initializer='lecun_normal'),\n",
    "    keras.layers.Dense(100, activation='selu', kernel_initializer='lecun_normal'),\n",
    "    keras.layers.Dense(10, activation='softmax')\n",
    "])"
   ]
  },
  {
   "cell_type": "code",
   "execution_count": 108,
   "metadata": {},
   "outputs": [
    {
     "name": "stdout",
     "output_type": "stream",
     "text": [
      "Train on 55000 samples, validate on 5000 samples\n",
      "Epoch 1/25\n",
      "55000/55000 [==============================] - 13s 230us/sample - loss: 0.8785 - accuracy: 0.7567 - val_loss: 0.7550 - val_accuracy: 0.7324\n",
      "Epoch 2/25\n",
      "55000/55000 [==============================] - 14s 253us/sample - loss: 0.9106 - accuracy: 0.7376 - val_loss: 0.9761 - val_accuracy: 0.7808\n",
      "Epoch 3/25\n",
      "55000/55000 [==============================] - 14s 262us/sample - loss: 0.9290 - accuracy: 0.7219 - val_loss: 0.7684 - val_accuracy: 0.7960\n",
      "Epoch 4/25\n",
      "55000/55000 [==============================] - 13s 235us/sample - loss: 0.7701 - accuracy: 0.7811 - val_loss: 0.8208 - val_accuracy: 0.8048\n",
      "Epoch 5/25\n",
      "55000/55000 [==============================] - 12s 217us/sample - loss: 0.7432 - accuracy: 0.7874 - val_loss: 0.8192 - val_accuracy: 0.7680\n",
      "Epoch 6/25\n",
      "55000/55000 [==============================] - 11s 197us/sample - loss: 0.5237 - accuracy: 0.8387 - val_loss: 0.6621 - val_accuracy: 0.8458\n",
      "Epoch 7/25\n",
      "55000/55000 [==============================] - 11s 199us/sample - loss: 0.4814 - accuracy: 0.8548 - val_loss: 0.6130 - val_accuracy: 0.8384\n",
      "Epoch 8/25\n",
      "55000/55000 [==============================] - 11s 202us/sample - loss: 0.4608 - accuracy: 0.8604 - val_loss: 0.5784 - val_accuracy: 0.8486\n",
      "Epoch 9/25\n",
      "55000/55000 [==============================] - 11s 202us/sample - loss: 0.4576 - accuracy: 0.8641 - val_loss: 0.5330 - val_accuracy: 0.8550\n",
      "Epoch 10/25\n",
      "55000/55000 [==============================] - 11s 194us/sample - loss: 0.4429 - accuracy: 0.8664 - val_loss: 0.5867 - val_accuracy: 0.8366\n",
      "Epoch 11/25\n",
      "55000/55000 [==============================] - 11s 202us/sample - loss: 0.4389 - accuracy: 0.8710 - val_loss: 0.5633 - val_accuracy: 0.8620\n",
      "Epoch 12/25\n",
      "55000/55000 [==============================] - 11s 204us/sample - loss: 0.4271 - accuracy: 0.8743 - val_loss: 0.5739 - val_accuracy: 0.8470\n",
      "Epoch 13/25\n",
      "55000/55000 [==============================] - 11s 197us/sample - loss: 0.4159 - accuracy: 0.8765 - val_loss: 0.6177 - val_accuracy: 0.8564\n",
      "Epoch 14/25\n",
      "55000/55000 [==============================] - 11s 205us/sample - loss: 0.4128 - accuracy: 0.8789 - val_loss: 0.6273 - val_accuracy: 0.8680\n",
      "Epoch 15/25\n",
      "55000/55000 [==============================] - 11s 203us/sample - loss: 0.3992 - accuracy: 0.8830 - val_loss: 0.6752 - val_accuracy: 0.8562\n",
      "Epoch 16/25\n",
      "55000/55000 [==============================] - 11s 197us/sample - loss: 0.2723 - accuracy: 0.9141 - val_loss: 0.5252 - val_accuracy: 0.8760\n",
      "Epoch 17/25\n",
      "55000/55000 [==============================] - 11s 208us/sample - loss: 0.2501 - accuracy: 0.9201 - val_loss: 0.5366 - val_accuracy: 0.8834\n",
      "Epoch 18/25\n",
      "55000/55000 [==============================] - 11s 203us/sample - loss: 0.2402 - accuracy: 0.9222 - val_loss: 0.5293 - val_accuracy: 0.8802\n",
      "Epoch 19/25\n",
      "55000/55000 [==============================] - 11s 203us/sample - loss: 0.2296 - accuracy: 0.9262 - val_loss: 0.5622 - val_accuracy: 0.8786\n",
      "Epoch 20/25\n",
      "55000/55000 [==============================] - 11s 208us/sample - loss: 0.2240 - accuracy: 0.9288 - val_loss: 0.5662 - val_accuracy: 0.8804\n",
      "Epoch 21/25\n",
      "55000/55000 [==============================] - 11s 206us/sample - loss: 0.2154 - accuracy: 0.9323 - val_loss: 0.5688 - val_accuracy: 0.8818\n",
      "Epoch 22/25\n",
      "55000/55000 [==============================] - 11s 209us/sample - loss: 0.2060 - accuracy: 0.9351 - val_loss: 0.6037 - val_accuracy: 0.8804\n",
      "Epoch 23/25\n",
      "55000/55000 [==============================] - 11s 206us/sample - loss: 0.2035 - accuracy: 0.9358 - val_loss: 0.5846 - val_accuracy: 0.8834\n",
      "Epoch 24/25\n",
      "55000/55000 [==============================] - 11s 205us/sample - loss: 0.1946 - accuracy: 0.9395 - val_loss: 0.6271 - val_accuracy: 0.8826\n",
      "Epoch 25/25\n",
      "55000/55000 [==============================] - 12s 215us/sample - loss: 0.1889 - accuracy: 0.9418 - val_loss: 0.6529 - val_accuracy: 0.8804\n"
     ]
    }
   ],
   "source": [
    "model.compile(loss='sparse_categorical_crossentropy', optimizer='nadam', metrics=['accuracy'])\n",
    "epoch_num = 25\n",
    "\n",
    "history= model.fit(x_train_scaled, y_train, epochs=epoch_num, validation_data=(x_valid_scaled, y_valid), \n",
    "                  callbacks=[learning_rate_scheduler])"
   ]
  },
  {
   "cell_type": "markdown",
   "metadata": {},
   "source": [
    "### Performance Scheduling:\n",
    "   reducing learning rate when the error rate stops dropping"
   ]
  },
  {
   "cell_type": "code",
   "execution_count": 109,
   "metadata": {},
   "outputs": [],
   "source": [
    "set_random()"
   ]
  },
  {
   "cell_type": "code",
   "execution_count": 110,
   "metadata": {},
   "outputs": [],
   "source": [
    "#factor = amount to reduce by (lr* factor) \n",
    "#patience = number of epochs w/ no improvement\n",
    "lr_scheduler = keras.callbacks.ReduceLROnPlateau(factor=0.5, patience= 5)"
   ]
  },
  {
   "cell_type": "code",
   "execution_count": 111,
   "metadata": {},
   "outputs": [],
   "source": [
    "model = keras.models.Sequential([\n",
    "    keras.layers.Flatten(input_shape=[28, 28]),\n",
    "    keras.layers.Dense(300, activation='selu', kernel_initializer='lecun_normal'),\n",
    "    keras.layers.Dense(100, activation='selu', kernel_initializer='lecun_normal'),\n",
    "    keras.layers.Dense(10, activation='softmax')\n",
    "])\n",
    "optimizer = keras.optimizers.SGD(lr=0.02, momentum=0.9)\n",
    "\n",
    "model.compile(loss='sparse_categorical_crossentropy', optimizer=optimizer, metrics=['accuracy'])\n"
   ]
  },
  {
   "cell_type": "code",
   "execution_count": 112,
   "metadata": {},
   "outputs": [
    {
     "name": "stdout",
     "output_type": "stream",
     "text": [
      "Train on 55000 samples, validate on 5000 samples\n",
      "Epoch 1/25\n",
      "55000/55000 [==============================] - 6s 109us/sample - loss: 0.5949 - accuracy: 0.8070 - val_loss: 0.4849 - val_accuracy: 0.8474\n",
      "Epoch 2/25\n",
      "55000/55000 [==============================] - 6s 113us/sample - loss: 0.5248 - accuracy: 0.8335 - val_loss: 0.5306 - val_accuracy: 0.8420\n",
      "Epoch 3/25\n",
      "55000/55000 [==============================] - 8s 139us/sample - loss: 0.5129 - accuracy: 0.8417 - val_loss: 0.4877 - val_accuracy: 0.8458\n",
      "Epoch 4/25\n",
      "55000/55000 [==============================] - 10s 175us/sample - loss: 0.5123 - accuracy: 0.8465 - val_loss: 0.7664 - val_accuracy: 0.8408\n",
      "Epoch 5/25\n",
      "55000/55000 [==============================] - 8s 137us/sample - loss: 0.5127 - accuracy: 0.8520 - val_loss: 0.6294 - val_accuracy: 0.8406\n",
      "Epoch 6/25\n",
      "55000/55000 [==============================] - 6s 117us/sample - loss: 0.5032 - accuracy: 0.8539 - val_loss: 0.6202 - val_accuracy: 0.8528\n",
      "Epoch 7/25\n",
      "55000/55000 [==============================] - 5s 98us/sample - loss: 0.2998 - accuracy: 0.8947 - val_loss: 0.3833 - val_accuracy: 0.8828\n",
      "Epoch 8/25\n",
      "55000/55000 [==============================] - 5s 96us/sample - loss: 0.2548 - accuracy: 0.9064 - val_loss: 0.3992 - val_accuracy: 0.8790\n",
      "Epoch 9/25\n",
      "55000/55000 [==============================] - 6s 104us/sample - loss: 0.2324 - accuracy: 0.9151 - val_loss: 0.3900 - val_accuracy: 0.8858\n",
      "Epoch 10/25\n",
      "55000/55000 [==============================] - 5s 96us/sample - loss: 0.2167 - accuracy: 0.9189 - val_loss: 0.4037 - val_accuracy: 0.8870\n",
      "Epoch 11/25\n",
      "55000/55000 [==============================] - 6s 114us/sample - loss: 0.2089 - accuracy: 0.9226 - val_loss: 0.4219 - val_accuracy: 0.8804\n",
      "Epoch 12/25\n",
      "55000/55000 [==============================] - 7s 126us/sample - loss: 0.2015 - accuracy: 0.9262 - val_loss: 0.4482 - val_accuracy: 0.8846\n",
      "Epoch 13/25\n",
      "55000/55000 [==============================] - 8s 139us/sample - loss: 0.1426 - accuracy: 0.9445 - val_loss: 0.4081 - val_accuracy: 0.8946\n",
      "Epoch 14/25\n",
      "55000/55000 [==============================] - 5s 95us/sample - loss: 0.1248 - accuracy: 0.9522 - val_loss: 0.4272 - val_accuracy: 0.8942\n",
      "Epoch 15/25\n",
      "55000/55000 [==============================] - 6s 111us/sample - loss: 0.1189 - accuracy: 0.9541 - val_loss: 0.4355 - val_accuracy: 0.8926\n",
      "Epoch 16/25\n",
      "55000/55000 [==============================] - 5s 98us/sample - loss: 0.1101 - accuracy: 0.9569 - val_loss: 0.4489 - val_accuracy: 0.8906\n",
      "Epoch 17/25\n",
      "55000/55000 [==============================] - 7s 118us/sample - loss: 0.1034 - accuracy: 0.9603 - val_loss: 0.4536 - val_accuracy: 0.8944\n",
      "Epoch 18/25\n",
      "55000/55000 [==============================] - 8s 140us/sample - loss: 0.0815 - accuracy: 0.9693 - val_loss: 0.4557 - val_accuracy: 0.8948\n",
      "Epoch 19/25\n",
      "55000/55000 [==============================] - 6s 115us/sample - loss: 0.0749 - accuracy: 0.9724 - val_loss: 0.4712 - val_accuracy: 0.8938\n",
      "Epoch 20/25\n",
      "55000/55000 [==============================] - 6s 109us/sample - loss: 0.0714 - accuracy: 0.9737 - val_loss: 0.4736 - val_accuracy: 0.8972\n",
      "Epoch 21/25\n",
      "55000/55000 [==============================] - 7s 119us/sample - loss: 0.0670 - accuracy: 0.9761 - val_loss: 0.4948 - val_accuracy: 0.8954\n",
      "Epoch 22/25\n",
      "55000/55000 [==============================] - 6s 112us/sample - loss: 0.0645 - accuracy: 0.9773 - val_loss: 0.4991 - val_accuracy: 0.8968\n",
      "Epoch 23/25\n",
      "55000/55000 [==============================] - 5s 89us/sample - loss: 0.0553 - accuracy: 0.9811 - val_loss: 0.5024 - val_accuracy: 0.8944\n",
      "Epoch 24/25\n",
      "55000/55000 [==============================] - 4s 80us/sample - loss: 0.0525 - accuracy: 0.9823 - val_loss: 0.5108 - val_accuracy: 0.8956\n",
      "Epoch 25/25\n",
      "55000/55000 [==============================] - 5s 100us/sample - loss: 0.0507 - accuracy: 0.9829 - val_loss: 0.5160 - val_accuracy: 0.8964\n"
     ]
    }
   ],
   "source": [
    "epochs = 25\n",
    "history = model.fit(x_train_scaled, y_train, epochs=epochs, validation_data=(x_valid_scaled, y_valid), \n",
    "                    callbacks=[lr_scheduler])"
   ]
  },
  {
   "cell_type": "code",
   "execution_count": 114,
   "metadata": {},
   "outputs": [
    {
     "data": {
      "image/png": "[encoded data removed]",
      "text/plain": [
       "<Figure size 432x288 with 2 Axes>"
      ]
     },
     "metadata": {
      "needs_background": "light"
     },
     "output_type": "display_data"
    }
   ],
   "source": [
    "#Visualization of the performance learning scheduling technique\n",
    "\n",
    "plt.plot(history.epoch, history.history[\"lr\"], \"bo-\")\n",
    "plt.xlabel(\"Epoch\")\n",
    "plt.ylabel(\"Learning Rate\", color='b')\n",
    "plt.tick_params('y', colors='b')\n",
    "plt.gca().set_xlim(0, n_epochs - 1)\n",
    "plt.grid(True)\n",
    "\n",
    "ax2 = plt.gca().twinx()\n",
    "ax2.plot(history.epoch, history.history[\"val_loss\"], \"r^-\")\n",
    "ax2.set_ylabel('Validation Loss', color='r')\n",
    "ax2.tick_params('y', colors='r')\n",
    "\n",
    "plt.title(\"Reduce LR on Plateau\", fontsize=14)\n",
    "plt.show()"
   ]
  },
  {
   "cell_type": "markdown",
   "metadata": {},
   "source": [
    "### Easy implementation through tf.keras:"
   ]
  },
  {
   "cell_type": "markdown",
   "metadata": {},
   "source": [
    "piecewise"
   ]
  },
  {
   "cell_type": "code",
   "execution_count": 116,
   "metadata": {},
   "outputs": [],
   "source": [
    "n_steps_per_epoch = 10 #example\n",
    "#piecewise function\n",
    "piecewise_learning = keras.optimizers.schedules.PiecewiseConstantDecay(\n",
    "    boundaries=[5. * n_steps_per_epoch, 15. * n_steps_per_epoch],\n",
    "    values=[0.01, 0.005, .001])"
   ]
  },
  {
   "cell_type": "markdown",
   "metadata": {},
   "source": [
    "exponential decay"
   ]
  },
  {
   "cell_type": "code",
   "execution_count": 118,
   "metadata": {},
   "outputs": [],
   "source": [
    "exponential_learning = keras.optimizers.schedules.ExponentialDecay(0.01, s, 0.1)"
   ]
  },
  {
   "cell_type": "markdown",
   "metadata": {},
   "source": [
    "## 1Cycle technique"
   ]
  },
  {
   "cell_type": "markdown",
   "metadata": {},
   "source": [
    "Idea to increase the learning rate half way through the entire number of epochs, then decrease the learning rate through the second half. "
   ]
  },
  {
   "cell_type": "code",
   "execution_count": 129,
   "metadata": {},
   "outputs": [],
   "source": [
    "#visualizing the method\n",
    "K = keras.backend\n",
    "\n",
    "class ExponentialLearningRate(keras.callbacks.Callback):\n",
    "    def __init__(self, factor):\n",
    "        self.factor = factor\n",
    "        self.rates = []\n",
    "        self.losses = []\n",
    "    \n",
    "    def on_batch_end(self, batch, logs):\n",
    "        self.rates.append(K.get_value(self.model.optimizer.lr))\n",
    "        self.losses.append(logs[\"loss\"])\n",
    "        K.set_value(self.model.optimizer.lr, self.model.optimizer.lr * self.factor)\n",
    "        \n",
    "def find_learning_rate( model, x, y, epochs=1, batch_size=32, min_rate=10**-5, max_rate=10):\n",
    "    init_weights = model.get_weights()\n",
    "    iterations = len(x) // batch_size * epochs\n",
    "    factor = np.exp(np.log(max_rate / min_rate) / iterations)\n",
    "    init_lr = K.get_value(model.optimizer.lr)\n",
    "    K.set_value(model.optimizer.lr, min_rate)\n",
    "    exp_lr = ExponentialLearningRate(factor)\n",
    "    \n",
    "    history = model.fit(x, y, epochs=epochs, batch_size=batch_size, callbacks=[exp_lr])\n",
    "    K.set_value(model.optimizer.lr, init_lr)\n",
    "    model.set_weights(init_weights)\n",
    "    return exp_lr.rates, exp_lr.losses\n",
    "\n",
    "def plot_learning_rate_vs_loss(rate, losses):\n",
    "    plt.plot(rate, losses)\n",
    "    plt.gca().set_xscale('log')\n",
    "    plt.hlines(min(losses), min(rates), max(rates))\n",
    "    plt.axis([min(rates), max(rates), min(losses), (losses[0] + min(losses)) /2])\n",
    "    plt.xlabel(\"Learning Rate\")\n",
    "    plt.ylabel(\"Loss\")"
   ]
  },
  {
   "cell_type": "code",
   "execution_count": 127,
   "metadata": {},
   "outputs": [],
   "source": [
    "set_random()\n",
    "\n",
    "model = keras.models.Sequential([\n",
    "    keras.layers.Flatten(input_shape=[28, 28]),\n",
    "    keras.layers.Dense(300, activation='selu', kernel_initializer='lecun_normal'),\n",
    "    keras.layers.Dense(100, activation='selu', kernel_initializer='lecun_normal'),\n",
    "    keras.layers.Dense(10, activation='softmax')\n",
    "])\n",
    "\n",
    "model.compile(loss='sparse_categorical_crossentropy', optimizer=keras.optimizers.SGD(lr=1e-3),\n",
    "              metrics=['accuracy'])"
   ]
  },
  {
   "cell_type": "code",
   "execution_count": 128,
   "metadata": {},
   "outputs": [
    {
     "name": "stdout",
     "output_type": "stream",
     "text": [
      "Train on 55000 samples\n",
      "55000/55000 [==============================] - 2s 41us/sample - loss: nan - accuracy: 0.3901\n"
     ]
    },
    {
     "data": {
      "image/png": "[encoded data removed]",
      "text/plain": [
       "<Figure size 432x288 with 1 Axes>"
      ]
     },
     "metadata": {
      "needs_background": "light"
     },
     "output_type": "display_data"
    }
   ],
   "source": [
    "batch_size = 128\n",
    "rates, losses = find_learning_rate(model, x_train_scaled, y_train, epochs=1, batch_size=batch_size)\n",
    "plot_learning_rate_vs_loss(rates, losses)"
   ]
  },
  {
   "cell_type": "markdown",
   "metadata": {},
   "source": [
    "Implementing the method"
   ]
  },
  {
   "cell_type": "code",
   "execution_count": 135,
   "metadata": {},
   "outputs": [],
   "source": [
    "set_random()"
   ]
  },
  {
   "cell_type": "code",
   "execution_count": 138,
   "metadata": {},
   "outputs": [],
   "source": [
    "\n",
    "class OneCycleScheduler(keras.callbacks.Callback):\n",
    "    def __init__(self, iterations, max_rate, start_rate=None, last_iterations=None, last_rate=None):\n",
    "        self.iterations = iterations\n",
    "        self.max_rate = max_rate\n",
    "        self.start_rate = start_rate or max_rate /10\n",
    "        self.last_iterations = last_iterations or iterations // 10 + 1\n",
    "        self.half_iteration =  (iterations - self.last_iterations) // 2\n",
    "        self.last_rate = last_rate or self.start_rate / 1000\n",
    "        self.iteration = 0\n",
    "        \n",
    "    def _interpolate(self, iter1, iter2, rate1, rate2):\n",
    "        return ((rate2- rate1) * (self.iterations - iter1) / (iter2 - iter1) + rate1)\n",
    "    \n",
    "    def on_batch_begin(self, batch, logs):\n",
    "        if self.iterations < self.half_iteration:\n",
    "            rate = self._interpolate(0, self.half_iteration, self.start_rate, self.max_rate)\n",
    "        elif self.iteartion < 2 * self.half_iteration:\n",
    "            rate = self._interpolate(self.half_iteration, 2 * self.half_iteration, self.max_rate, self.start_rate)\n",
    "        else:\n",
    "            rate = self._interpolate(2 * self.half_iteration, self.iterations, self.start_rate, self.last_rate)\n",
    "            rate = max(rate, self.last_rate)\n",
    "        self.iterations += 1\n",
    "        K.set_value(self.model.optimizer.lr, rate)\n",
    "        "
   ]
  },
  {
   "cell_type": "code",
   "execution_count": 140,
   "metadata": {},
   "outputs": [
    {
     "name": "stdout",
     "output_type": "stream",
     "text": [
      "Train on 55000 samples, validate on 5000 samples\n",
      "Epoch 1/25\n",
      "55000/55000 [==============================] - 6s 108us/sample - loss: 0.6576 - accuracy: 0.7743 - val_loss: 0.4901 - val_accuracy: 0.8300\n",
      "Epoch 2/25\n",
      "55000/55000 [==============================] - 6s 103us/sample - loss: 0.4587 - accuracy: 0.8387 - val_loss: 0.4316 - val_accuracy: 0.8490\n",
      "Epoch 3/25\n",
      "55000/55000 [==============================] - 6s 107us/sample - loss: 0.4119 - accuracy: 0.8560 - val_loss: 0.4117 - val_accuracy: 0.8580\n",
      "Epoch 4/25\n",
      "55000/55000 [==============================] - 6s 106us/sample - loss: 0.3842 - accuracy: 0.8657 - val_loss: 0.3920 - val_accuracy: 0.8636\n",
      "Epoch 5/25\n",
      "55000/55000 [==============================] - 6s 105us/sample - loss: 0.3636 - accuracy: 0.8708 - val_loss: 0.3739 - val_accuracy: 0.8710\n",
      "Epoch 6/25\n",
      "55000/55000 [==============================] - 6s 107us/sample - loss: 0.3460 - accuracy: 0.8766 - val_loss: 0.3741 - val_accuracy: 0.8692\n",
      "Epoch 7/25\n",
      "55000/55000 [==============================] - 6s 109us/sample - loss: 0.3312 - accuracy: 0.8818 - val_loss: 0.3759 - val_accuracy: 0.8648\n",
      "Epoch 8/25\n",
      "55000/55000 [==============================] - 6s 108us/sample - loss: 0.3194 - accuracy: 0.8844 - val_loss: 0.3586 - val_accuracy: 0.8754\n",
      "Epoch 9/25\n",
      "55000/55000 [==============================] - 6s 106us/sample - loss: 0.3056 - accuracy: 0.8900 - val_loss: 0.3473 - val_accuracy: 0.8816\n",
      "Epoch 10/25\n",
      "55000/55000 [==============================] - 6s 105us/sample - loss: 0.2943 - accuracy: 0.8934 - val_loss: 0.4008 - val_accuracy: 0.8554\n",
      "Epoch 11/25\n",
      "55000/55000 [==============================] - 5s 93us/sample - loss: 0.2845 - accuracy: 0.8958 - val_loss: 0.3443 - val_accuracy: 0.8828\n",
      "Epoch 12/25\n",
      "55000/55000 [==============================] - 6s 112us/sample - loss: 0.2720 - accuracy: 0.9017 - val_loss: 0.3349 - val_accuracy: 0.8802\n",
      "Epoch 13/25\n",
      "55000/55000 [==============================] - 6s 107us/sample - loss: 0.2538 - accuracy: 0.9093 - val_loss: 0.3381 - val_accuracy: 0.8828\n",
      "Epoch 14/25\n",
      "55000/55000 [==============================] - 6s 112us/sample - loss: 0.2421 - accuracy: 0.9124 - val_loss: 0.3328 - val_accuracy: 0.8854\n",
      "Epoch 15/25\n",
      "55000/55000 [==============================] - 6s 110us/sample - loss: 0.2290 - accuracy: 0.9174 - val_loss: 0.3236 - val_accuracy: 0.8840\n",
      "Epoch 16/25\n",
      "55000/55000 [==============================] - 6s 110us/sample - loss: 0.2169 - accuracy: 0.9220 - val_loss: 0.3337 - val_accuracy: 0.8862\n",
      "Epoch 17/25\n",
      "55000/55000 [==============================] - 6s 111us/sample - loss: 0.2068 - accuracy: 0.9265 - val_loss: 0.3211 - val_accuracy: 0.8874\n",
      "Epoch 18/25\n",
      "55000/55000 [==============================] - 6s 114us/sample - loss: 0.1978 - accuracy: 0.9301 - val_loss: 0.3188 - val_accuracy: 0.8886\n",
      "Epoch 19/25\n",
      "55000/55000 [==============================] - 6s 110us/sample - loss: 0.1894 - accuracy: 0.9327 - val_loss: 0.3272 - val_accuracy: 0.8852\n",
      "Epoch 20/25\n",
      "55000/55000 [==============================] - 6s 114us/sample - loss: 0.1820 - accuracy: 0.9374 - val_loss: 0.3196 - val_accuracy: 0.8916\n",
      "Epoch 21/25\n",
      "55000/55000 [==============================] - 6s 114us/sample - loss: 0.1758 - accuracy: 0.9397 - val_loss: 0.3163 - val_accuracy: 0.8932\n",
      "Epoch 22/25\n",
      "55000/55000 [==============================] - 6s 112us/sample - loss: 0.1702 - accuracy: 0.9418 - val_loss: 0.3178 - val_accuracy: 0.8934\n",
      "Epoch 23/25\n",
      "55000/55000 [==============================] - 6s 114us/sample - loss: 0.1658 - accuracy: 0.9441 - val_loss: 0.3168 - val_accuracy: 0.8954\n",
      "Epoch 24/25\n",
      "55000/55000 [==============================] - 6s 113us/sample - loss: 0.1630 - accuracy: 0.9452 - val_loss: 0.3168 - val_accuracy: 0.8932\n",
      "Epoch 25/25\n",
      "55000/55000 [==============================] - 3s 48us/sample - loss: 0.1612 - accuracy: 0.9464 - val_loss: 0.3171 - val_accuracy: 0.8956\n"
     ]
    }
   ],
   "source": [
    "number_epochs = 25\n",
    "onecycle = OneCycleScheduler(len(x_train) // batch_size * number_epochs, max_rate=0.05)\n",
    "history = model.fit(x_train_scaled, y_train, epochs= number_epochs, batch_size=batch_size,\n",
    "                   validation_data=(x_valid_scaled, y_valid), callbacks=[onecycle])"
   ]
  },
  {
   "cell_type": "code",
   "execution_count": 141,
   "metadata": {},
   "outputs": [
    {
     "name": "stdout",
     "output_type": "stream",
     "text": [
      "10000/10000 [==============================] - 0s 49us/sample - loss: 0.3379 - accuracy: 0.8851\n"
     ]
    },
    {
     "data": {
      "text/plain": [
       "[0.3379229620754719, 0.8851]"
      ]
     },
     "execution_count": 141,
     "metadata": {},
     "output_type": "execute_result"
    }
   ],
   "source": [
    "model.evaluate(x_test_scaled, y_test)"
   ]
  },
  {
   "cell_type": "markdown",
   "metadata": {},
   "source": [
    "# Using Regularization:\n",
    "    to avoid overfitting"
   ]
  },
  {
   "cell_type": "markdown",
   "metadata": {},
   "source": [
    "###  l1 and l2 regularization technique"
   ]
  },
  {
   "cell_type": "code",
   "execution_count": 143,
   "metadata": {},
   "outputs": [],
   "source": [
    "#simple usage of just l2 reg on layer\n",
    "layer = keras.layers.Dense(1, activation='relu', kernel_initializer='he_normal', \n",
    "                           kernel_regularizer=keras.regularizers.l2(0.01))\n",
    "\n",
    "# or l1(0.1) for ℓ1 regularization with a factor or 0.1\n",
    "# or l1_l2(0.1, 0.01) for both ℓ1 and ℓ2 regularization, with factors 0.1 and 0.01 respectively"
   ]
  },
  {
   "cell_type": "code",
   "execution_count": 145,
   "metadata": {},
   "outputs": [
    {
     "name": "stdout",
     "output_type": "stream",
     "text": [
      "Train on 55000 samples, validate on 5000 samples\n",
      "Epoch 1/2\n",
      "55000/55000 [==============================] - 13s 229us/sample - loss: 1.5735 - accuracy: 0.8126 - val_loss: 0.7327 - val_accuracy: 0.8222\n",
      "Epoch 2/2\n",
      "55000/55000 [==============================] - 12s 215us/sample - loss: 0.7186 - accuracy: 0.8260 - val_loss: 0.6929 - val_accuracy: 0.8338\n"
     ]
    }
   ],
   "source": [
    "#simple model using the l2\n",
    "model = keras.models.Sequential([\n",
    "    keras.layers.Flatten(input_shape=[28, 28]),\n",
    "    #using the exponential linear unit activation function with it\n",
    "    keras.layers.Dense(300, activation=\"elu\",\n",
    "                       kernel_initializer=\"he_normal\",\n",
    "                       kernel_regularizer=keras.regularizers.l2(0.01)),\n",
    "    keras.layers.Dense(100, activation=\"elu\",\n",
    "                       kernel_initializer=\"he_normal\",\n",
    "                       kernel_regularizer=keras.regularizers.l2(0.01)),\n",
    "    keras.layers.Dense(10, activation=\"softmax\",\n",
    "                       kernel_regularizer=keras.regularizers.l2(0.01))\n",
    "])\n",
    "\n",
    "model.compile(loss='sparse_categorical_crossentropy', optimizer='nadam', metrics=['accuracy'])\n",
    "history = model.fit(x_train_scaled, y_train, epochs=2, validation_data=(x_valid_scaled, y_valid))"
   ]
  },
  {
   "cell_type": "code",
   "execution_count": 146,
   "metadata": {},
   "outputs": [],
   "source": [
    "from functools import partial\n",
    "\n",
    "#quick layer building\n",
    "RegularizedDense = partial(keras.layers.Dense, \n",
    "                          activation='elu',\n",
    "                          kernel_initializer='he_normal',\n",
    "                          kernel_regularizer=keras.regularizers.l2(0.01))"
   ]
  },
  {
   "cell_type": "code",
   "execution_count": 147,
   "metadata": {},
   "outputs": [
    {
     "name": "stdout",
     "output_type": "stream",
     "text": [
      "Train on 55000 samples, validate on 5000 samples\n",
      "Epoch 1/2\n",
      "55000/55000 [==============================] - 13s 229us/sample - loss: 1.6006 - accuracy: 0.8129 - val_loss: 0.7374 - val_accuracy: 0.8236\n",
      "Epoch 2/2\n",
      "55000/55000 [==============================] - 12s 218us/sample - loss: 0.7179 - accuracy: 0.8265 - val_loss: 0.6905 - val_accuracy: 0.8356\n"
     ]
    }
   ],
   "source": [
    "model = keras.models.Sequential([\n",
    "    keras.layers.Flatten(input_shape=[28,28]),\n",
    "    RegularizedDense(300),\n",
    "    RegularizedDense(100),\n",
    "    RegularizedDense(10, activation='softmax')\n",
    "])\n",
    "model.compile(loss='sparse_categorical_crossentropy', optimizer='nadam', metrics=['accuracy'])\n",
    "\n",
    "history= model.fit(x_train_scaled, y_train, epochs=2, validation_data=(x_valid_scaled, y_valid))"
   ]
  },
  {
   "cell_type": "markdown",
   "metadata": {},
   "source": [
    "## Dropout usage"
   ]
  },
  {
   "cell_type": "code",
   "execution_count": 156,
   "metadata": {},
   "outputs": [
    {
     "name": "stdout",
     "output_type": "stream",
     "text": [
      "Train on 55000 samples, validate on 5000 samples\n",
      "Epoch 1/2\n",
      "55000/55000 [==============================] - 11s 202us/sample - loss: 0.5686 - accuracy: 0.8031 - val_loss: 0.3809 - val_accuracy: 0.8608\n",
      "Epoch 2/2\n",
      "55000/55000 [==============================] - 11s 198us/sample - loss: 0.4212 - accuracy: 0.8466 - val_loss: 0.3379 - val_accuracy: 0.8760\n"
     ]
    }
   ],
   "source": [
    "model = keras.models.Sequential([\n",
    "    keras.layers.Flatten(input_shape=[28, 28]),\n",
    "    keras.layers.Dropout(rate=0.2), #20% dropout \n",
    "    keras.layers.Dense(300, activation='elu', kernel_initializer='he_normal'),\n",
    "    keras.layers.Dropout(rate=0.2),\n",
    "    keras.layers.Dense(100, activation='elu', kernel_initializer='he_normal'),\n",
    "    keras.layers.Dropout(rate=0.2),\n",
    "    keras.layers.Dense(10, activation='softmax'),\n",
    "    \n",
    "])\n",
    "\n",
    "model.compile(loss='sparse_categorical_crossentropy', optimizer='nadam', metrics=['accuracy'])\n",
    "\n",
    "history= model.fit(x_train_scaled, y_train, epochs=2, validation_data=(x_valid_scaled, y_valid))"
   ]
  },
  {
   "cell_type": "code",
   "execution_count": 155,
   "metadata": {},
   "outputs": [],
   "source": [
    "set_random()\n"
   ]
  },
  {
   "cell_type": "markdown",
   "metadata": {},
   "source": [
    "### alpha dropout:\n",
    "   dropout that keeps the mean and variances of inputs of their original values"
   ]
  },
  {
   "cell_type": "code",
   "execution_count": 6,
   "metadata": {},
   "outputs": [
    {
     "name": "stdout",
     "output_type": "stream",
     "text": [
      "Train on 55000 samples, validate on 5000 samples\n",
      "Epoch 1/20\n",
      "55000/55000 [==============================] - 8s 154us/sample - loss: 0.6614 - accuracy: 0.7614 - val_loss: 0.6682 - val_accuracy: 0.8262\n",
      "Epoch 2/20\n",
      "55000/55000 [==============================] - 7s 126us/sample - loss: 0.5526 - accuracy: 0.7971 - val_loss: 0.5835 - val_accuracy: 0.8370\n",
      "Epoch 3/20\n",
      "55000/55000 [==============================] - 7s 120us/sample - loss: 0.5261 - accuracy: 0.8066 - val_loss: 0.5318 - val_accuracy: 0.8532\n",
      "Epoch 4/20\n",
      "55000/55000 [==============================] - 7s 122us/sample - loss: 0.5077 - accuracy: 0.8113 - val_loss: 0.4917 - val_accuracy: 0.8614\n",
      "Epoch 5/20\n",
      "55000/55000 [==============================] - 7s 131us/sample - loss: 0.4934 - accuracy: 0.8180 - val_loss: 0.5006 - val_accuracy: 0.8588\n",
      "Epoch 6/20\n",
      "55000/55000 [==============================] - 7s 126us/sample - loss: 0.4835 - accuracy: 0.8194 - val_loss: 0.5177 - val_accuracy: 0.8534\n",
      "Epoch 7/20\n",
      "55000/55000 [==============================] - 7s 126us/sample - loss: 0.4711 - accuracy: 0.8257 - val_loss: 0.4566 - val_accuracy: 0.8658\n",
      "Epoch 8/20\n",
      "55000/55000 [==============================] - 7s 128us/sample - loss: 0.4645 - accuracy: 0.8269 - val_loss: 0.4604 - val_accuracy: 0.8578\n",
      "Epoch 9/20\n",
      "55000/55000 [==============================] - 7s 129us/sample - loss: 0.4572 - accuracy: 0.8313 - val_loss: 0.4572 - val_accuracy: 0.8628\n",
      "Epoch 10/20\n",
      "55000/55000 [==============================] - 7s 127us/sample - loss: 0.4506 - accuracy: 0.8330 - val_loss: 0.4313 - val_accuracy: 0.8658\n",
      "Epoch 11/20\n",
      "55000/55000 [==============================] - 7s 126us/sample - loss: 0.4472 - accuracy: 0.8336 - val_loss: 0.4586 - val_accuracy: 0.8670\n",
      "Epoch 12/20\n",
      "55000/55000 [==============================] - 7s 124us/sample - loss: 0.4472 - accuracy: 0.8337 - val_loss: 0.4452 - val_accuracy: 0.8676\n",
      "Epoch 13/20\n",
      "55000/55000 [==============================] - 7s 127us/sample - loss: 0.4411 - accuracy: 0.8355 - val_loss: 0.4589 - val_accuracy: 0.8690\n",
      "Epoch 14/20\n",
      "55000/55000 [==============================] - 7s 129us/sample - loss: 0.4335 - accuracy: 0.8385 - val_loss: 0.4898 - val_accuracy: 0.8702\n",
      "Epoch 15/20\n",
      "55000/55000 [==============================] - 7s 127us/sample - loss: 0.4327 - accuracy: 0.8394 - val_loss: 0.4226 - val_accuracy: 0.8778\n",
      "Epoch 16/20\n",
      "55000/55000 [==============================] - 7s 130us/sample - loss: 0.4297 - accuracy: 0.8410 - val_loss: 0.4769 - val_accuracy: 0.8630\n",
      "Epoch 17/20\n",
      "55000/55000 [==============================] - 7s 129us/sample - loss: 0.4281 - accuracy: 0.8399 - val_loss: 0.4467 - val_accuracy: 0.8770\n",
      "Epoch 18/20\n",
      "55000/55000 [==============================] - 7s 129us/sample - loss: 0.4234 - accuracy: 0.8427 - val_loss: 0.4418 - val_accuracy: 0.8746\n",
      "Epoch 19/20\n",
      "55000/55000 [==============================] - 7s 132us/sample - loss: 0.4229 - accuracy: 0.8432 - val_loss: 0.4041 - val_accuracy: 0.8740\n",
      "Epoch 20/20\n",
      "55000/55000 [==============================] - 7s 128us/sample - loss: 0.4196 - accuracy: 0.8450 - val_loss: 0.4169 - val_accuracy: 0.8780\n"
     ]
    }
   ],
   "source": [
    "model = keras.models.Sequential([\n",
    "    keras.layers.Flatten(input_shape=[28, 28]),\n",
    "    keras.layers.AlphaDropout(rate=0.2),\n",
    "    keras.layers.Dense(300, activation=\"selu\", kernel_initializer=\"lecun_normal\"),\n",
    "    keras.layers.AlphaDropout(rate=0.2),\n",
    "    keras.layers.Dense(100, activation=\"selu\", kernel_initializer=\"lecun_normal\"),\n",
    "    keras.layers.AlphaDropout(rate=0.2),\n",
    "    keras.layers.Dense(10, activation=\"softmax\")\n",
    "])\n",
    "\n",
    "optimizer = keras.optimizers.SGD(lr=0.01, momentum=0.9, nesterov=True)\n",
    "accuracy = ['accuracy']\n",
    "loss = 'sparse_categorical_crossentropy'\n",
    "n_epochs = 20\n",
    "model.compile(loss=loss, optimizer=optimizer, metrics=accuracy)\n",
    "\n",
    "history = model.fit(x_train_scaled, y_train, epochs=n_epochs, validation_data=(x_valid_scaled, y_valid))"
   ]
  },
  {
   "cell_type": "code",
   "execution_count": 11,
   "metadata": {},
   "outputs": [
    {
     "name": "stdout",
     "output_type": "stream",
     "text": [
      "10000/10000 [==============================] - 1s 62us/sample - loss: 0.5074 - accuracy: 0.8650\n"
     ]
    },
    {
     "data": {
      "text/plain": [
       "[0.5073673460304737, 0.865]"
      ]
     },
     "execution_count": 11,
     "metadata": {},
     "output_type": "execute_result"
    }
   ],
   "source": [
    "model.evaluate(x_test_scaled, y_test)"
   ]
  },
  {
   "cell_type": "markdown",
   "metadata": {},
   "source": [
    "## MC Dropout:\n",
    "     monte carlo, which is just essentially stacking predictions "
   ]
  },
  {
   "cell_type": "code",
   "execution_count": 7,
   "metadata": {},
   "outputs": [],
   "source": [
    "set_random()"
   ]
  },
  {
   "cell_type": "code",
   "execution_count": 8,
   "metadata": {},
   "outputs": [
    {
     "name": "stderr",
     "output_type": "stream",
     "text": [
      "WARNING: Logging before flag parsing goes to stderr.\n",
      "W0427 10:52:06.219471 139753668679488 base_layer.py:1790] Layer flatten is casting an input tensor from dtype float64 to the layer's dtype of float32, which is new behavior in TensorFlow 2.  The layer has dtype float32 because it's dtype defaults to floatx.\n",
      "\n",
      "If you intended to run this layer in float32, you can safely ignore this warning. If in doubt, this warning is likely only an issue if you are porting a TensorFlow 1.X model to TensorFlow 2.\n",
      "\n",
      "To change all layers to have dtype float64 by default, call `tf.keras.backend.set_floatx('float64')`. To change just this layer, pass dtype='float64' to the layer constructor. If you are the author of this layer, you can disable autocasting by passing autocast=False to the base Layer constructor.\n",
      "\n"
     ]
    }
   ],
   "source": [
    "#make 100 predictions on the model with test set\n",
    "y_probas = np.stack([model(x_test_scaled, training=True) for sample in range(100)])"
   ]
  },
  {
   "cell_type": "code",
   "execution_count": 9,
   "metadata": {},
   "outputs": [],
   "source": [
    "#take the mean of the 100 predictions \n",
    "y_proba = y_probas.mean(axis=0)\n",
    "y_std = y_probas.std(axis=0)"
   ]
  },
  {
   "cell_type": "code",
   "execution_count": 10,
   "metadata": {},
   "outputs": [
    {
     "data": {
      "text/plain": [
       "array([[0., 0., 0., 0., 0., 0., 0., 0., 0., 1.]], dtype=float32)"
      ]
     },
     "execution_count": 10,
     "metadata": {},
     "output_type": "execute_result"
    }
   ],
   "source": [
    "#to view predictions, w/out dropout\n",
    "np.round(model.predict(x_test_scaled[:1]), 2)"
   ]
  },
  {
   "cell_type": "code",
   "execution_count": 11,
   "metadata": {
    "scrolled": false
   },
   "outputs": [
    {
     "data": {
      "text/plain": [
       "array([[[0.  , 0.  , 0.  , 0.  , 0.  , 0.  , 0.  , 0.39, 0.  , 0.61]],\n",
       "\n",
       "       [[0.  , 0.  , 0.  , 0.  , 0.  , 0.01, 0.  , 0.7 , 0.  , 0.29]],\n",
       "\n",
       "       [[0.  , 0.  , 0.  , 0.  , 0.  , 0.21, 0.  , 0.01, 0.  , 0.79]],\n",
       "\n",
       "       [[0.  , 0.  , 0.  , 0.  , 0.  , 0.04, 0.  , 0.23, 0.03, 0.7 ]],\n",
       "\n",
       "       [[0.  , 0.  , 0.  , 0.  , 0.  , 0.01, 0.  , 0.16, 0.  , 0.83]],\n",
       "\n",
       "       [[0.  , 0.  , 0.  , 0.  , 0.  , 0.  , 0.  , 0.05, 0.  , 0.95]],\n",
       "\n",
       "       [[0.  , 0.  , 0.  , 0.  , 0.  , 0.03, 0.  , 0.15, 0.  , 0.82]],\n",
       "\n",
       "       [[0.  , 0.  , 0.  , 0.  , 0.  , 0.  , 0.  , 0.06, 0.  , 0.93]],\n",
       "\n",
       "       [[0.  , 0.  , 0.  , 0.  , 0.  , 0.28, 0.  , 0.06, 0.  , 0.66]],\n",
       "\n",
       "       [[0.  , 0.  , 0.  , 0.  , 0.  , 0.01, 0.  , 0.04, 0.  , 0.96]],\n",
       "\n",
       "       [[0.  , 0.  , 0.  , 0.  , 0.  , 0.02, 0.  , 0.33, 0.  , 0.65]],\n",
       "\n",
       "       [[0.  , 0.  , 0.  , 0.  , 0.  , 0.36, 0.  , 0.05, 0.  , 0.58]],\n",
       "\n",
       "       [[0.  , 0.  , 0.  , 0.  , 0.  , 0.13, 0.  , 0.26, 0.  , 0.61]],\n",
       "\n",
       "       [[0.  , 0.  , 0.  , 0.  , 0.  , 0.07, 0.  , 0.1 , 0.  , 0.83]],\n",
       "\n",
       "       [[0.  , 0.  , 0.  , 0.  , 0.  , 0.01, 0.  , 0.1 , 0.  , 0.89]],\n",
       "\n",
       "       [[0.  , 0.  , 0.  , 0.  , 0.  , 0.04, 0.  , 0.07, 0.  , 0.89]],\n",
       "\n",
       "       [[0.  , 0.  , 0.  , 0.  , 0.  , 0.01, 0.  , 0.  , 0.  , 0.99]],\n",
       "\n",
       "       [[0.  , 0.  , 0.  , 0.  , 0.  , 0.02, 0.  , 0.3 , 0.  , 0.68]],\n",
       "\n",
       "       [[0.  , 0.  , 0.  , 0.  , 0.  , 0.  , 0.  , 0.15, 0.  , 0.85]],\n",
       "\n",
       "       [[0.  , 0.  , 0.  , 0.  , 0.  , 0.01, 0.  , 0.04, 0.  , 0.95]],\n",
       "\n",
       "       [[0.  , 0.  , 0.  , 0.  , 0.  , 0.08, 0.  , 0.14, 0.  , 0.77]],\n",
       "\n",
       "       [[0.  , 0.  , 0.  , 0.  , 0.  , 0.03, 0.  , 0.1 , 0.  , 0.87]],\n",
       "\n",
       "       [[0.  , 0.  , 0.  , 0.  , 0.  , 0.  , 0.  , 0.01, 0.  , 0.99]],\n",
       "\n",
       "       [[0.  , 0.  , 0.  , 0.  , 0.  , 0.02, 0.  , 0.18, 0.  , 0.8 ]],\n",
       "\n",
       "       [[0.  , 0.  , 0.  , 0.  , 0.  , 0.01, 0.  , 0.04, 0.  , 0.95]],\n",
       "\n",
       "       [[0.  , 0.  , 0.  , 0.  , 0.  , 0.04, 0.  , 0.43, 0.  , 0.54]],\n",
       "\n",
       "       [[0.  , 0.  , 0.  , 0.  , 0.  , 0.01, 0.  , 0.02, 0.  , 0.97]],\n",
       "\n",
       "       [[0.  , 0.  , 0.  , 0.  , 0.  , 0.02, 0.  , 0.16, 0.  , 0.82]],\n",
       "\n",
       "       [[0.  , 0.  , 0.  , 0.  , 0.  , 0.74, 0.  , 0.04, 0.  , 0.22]],\n",
       "\n",
       "       [[0.  , 0.  , 0.  , 0.  , 0.  , 0.07, 0.  , 0.4 , 0.03, 0.49]],\n",
       "\n",
       "       [[0.  , 0.  , 0.  , 0.  , 0.  , 0.  , 0.  , 0.01, 0.  , 0.99]],\n",
       "\n",
       "       [[0.  , 0.  , 0.  , 0.  , 0.  , 0.02, 0.  , 0.01, 0.  , 0.97]],\n",
       "\n",
       "       [[0.  , 0.  , 0.  , 0.  , 0.  , 0.04, 0.  , 0.02, 0.  , 0.94]],\n",
       "\n",
       "       [[0.  , 0.  , 0.  , 0.  , 0.  , 0.18, 0.  , 0.6 , 0.  , 0.22]],\n",
       "\n",
       "       [[0.  , 0.  , 0.  , 0.  , 0.  , 0.01, 0.  , 0.08, 0.  , 0.91]],\n",
       "\n",
       "       [[0.  , 0.  , 0.  , 0.  , 0.  , 0.06, 0.  , 0.2 , 0.  , 0.74]],\n",
       "\n",
       "       [[0.  , 0.  , 0.  , 0.  , 0.  , 0.  , 0.  , 0.01, 0.  , 0.99]],\n",
       "\n",
       "       [[0.  , 0.  , 0.  , 0.  , 0.  , 0.01, 0.  , 0.09, 0.  , 0.9 ]],\n",
       "\n",
       "       [[0.  , 0.  , 0.  , 0.  , 0.  , 0.01, 0.  , 0.07, 0.  , 0.92]],\n",
       "\n",
       "       [[0.  , 0.  , 0.  , 0.  , 0.  , 0.09, 0.  , 0.01, 0.  , 0.9 ]],\n",
       "\n",
       "       [[0.  , 0.  , 0.  , 0.  , 0.  , 0.02, 0.  , 0.08, 0.  , 0.9 ]],\n",
       "\n",
       "       [[0.  , 0.  , 0.  , 0.  , 0.  , 0.01, 0.  , 0.09, 0.  , 0.9 ]],\n",
       "\n",
       "       [[0.  , 0.  , 0.  , 0.  , 0.  , 0.28, 0.  , 0.09, 0.  , 0.63]],\n",
       "\n",
       "       [[0.  , 0.  , 0.  , 0.  , 0.  , 0.  , 0.  , 0.05, 0.  , 0.95]],\n",
       "\n",
       "       [[0.  , 0.  , 0.  , 0.  , 0.  , 0.02, 0.  , 0.08, 0.  , 0.9 ]],\n",
       "\n",
       "       [[0.  , 0.  , 0.  , 0.  , 0.  , 0.  , 0.  , 0.01, 0.  , 0.99]],\n",
       "\n",
       "       [[0.  , 0.  , 0.  , 0.  , 0.  , 0.03, 0.  , 0.27, 0.  , 0.7 ]],\n",
       "\n",
       "       [[0.  , 0.  , 0.  , 0.  , 0.  , 0.  , 0.  , 0.19, 0.  , 0.81]],\n",
       "\n",
       "       [[0.  , 0.  , 0.  , 0.  , 0.  , 0.  , 0.  , 0.57, 0.  , 0.43]],\n",
       "\n",
       "       [[0.  , 0.  , 0.  , 0.  , 0.  , 0.01, 0.  , 0.06, 0.  , 0.93]],\n",
       "\n",
       "       [[0.  , 0.  , 0.  , 0.  , 0.  , 0.39, 0.  , 0.1 , 0.  , 0.51]],\n",
       "\n",
       "       [[0.  , 0.  , 0.  , 0.  , 0.  , 0.08, 0.  , 0.08, 0.  , 0.84]],\n",
       "\n",
       "       [[0.  , 0.  , 0.  , 0.  , 0.  , 0.  , 0.  , 0.03, 0.  , 0.97]],\n",
       "\n",
       "       [[0.  , 0.  , 0.  , 0.  , 0.  , 0.16, 0.  , 0.03, 0.  , 0.81]],\n",
       "\n",
       "       [[0.  , 0.  , 0.  , 0.  , 0.  , 0.15, 0.  , 0.01, 0.  , 0.84]],\n",
       "\n",
       "       [[0.  , 0.  , 0.  , 0.  , 0.  , 0.  , 0.  , 0.01, 0.  , 0.98]],\n",
       "\n",
       "       [[0.  , 0.  , 0.  , 0.  , 0.  , 0.  , 0.  , 0.6 , 0.  , 0.4 ]],\n",
       "\n",
       "       [[0.  , 0.  , 0.  , 0.  , 0.  , 0.08, 0.  , 0.23, 0.  , 0.69]],\n",
       "\n",
       "       [[0.  , 0.  , 0.  , 0.  , 0.  , 0.02, 0.  , 0.11, 0.  , 0.87]],\n",
       "\n",
       "       [[0.  , 0.  , 0.  , 0.  , 0.  , 0.01, 0.  , 0.09, 0.  , 0.9 ]],\n",
       "\n",
       "       [[0.  , 0.  , 0.  , 0.  , 0.  , 0.03, 0.  , 0.06, 0.  , 0.91]],\n",
       "\n",
       "       [[0.  , 0.  , 0.  , 0.  , 0.  , 0.03, 0.  , 0.24, 0.  , 0.73]],\n",
       "\n",
       "       [[0.  , 0.  , 0.  , 0.  , 0.  , 0.01, 0.  , 0.02, 0.  , 0.98]],\n",
       "\n",
       "       [[0.  , 0.  , 0.  , 0.  , 0.  , 0.  , 0.  , 0.06, 0.  , 0.94]],\n",
       "\n",
       "       [[0.  , 0.  , 0.  , 0.  , 0.  , 0.03, 0.  , 0.02, 0.  , 0.94]],\n",
       "\n",
       "       [[0.  , 0.  , 0.  , 0.  , 0.  , 0.02, 0.  , 0.29, 0.  , 0.69]],\n",
       "\n",
       "       [[0.  , 0.  , 0.  , 0.  , 0.  , 0.3 , 0.  , 0.1 , 0.  , 0.6 ]],\n",
       "\n",
       "       [[0.  , 0.  , 0.  , 0.  , 0.  , 0.01, 0.  , 0.04, 0.  , 0.95]],\n",
       "\n",
       "       [[0.  , 0.  , 0.  , 0.  , 0.  , 0.  , 0.  , 0.03, 0.  , 0.97]],\n",
       "\n",
       "       [[0.  , 0.  , 0.  , 0.  , 0.  , 0.  , 0.  , 0.28, 0.  , 0.71]],\n",
       "\n",
       "       [[0.  , 0.  , 0.  , 0.  , 0.  , 0.  , 0.  , 0.01, 0.  , 0.99]],\n",
       "\n",
       "       [[0.  , 0.  , 0.  , 0.  , 0.  , 0.01, 0.  , 0.05, 0.  , 0.95]],\n",
       "\n",
       "       [[0.  , 0.  , 0.  , 0.  , 0.  , 0.06, 0.  , 0.19, 0.  , 0.74]],\n",
       "\n",
       "       [[0.  , 0.  , 0.  , 0.  , 0.  , 0.  , 0.  , 0.01, 0.  , 0.99]],\n",
       "\n",
       "       [[0.  , 0.  , 0.  , 0.  , 0.  , 0.07, 0.  , 0.03, 0.  , 0.9 ]],\n",
       "\n",
       "       [[0.  , 0.  , 0.  , 0.  , 0.  , 0.01, 0.  , 0.  , 0.  , 0.99]],\n",
       "\n",
       "       [[0.  , 0.  , 0.  , 0.  , 0.  , 0.  , 0.  , 0.05, 0.  , 0.95]],\n",
       "\n",
       "       [[0.  , 0.  , 0.  , 0.  , 0.  , 0.07, 0.  , 0.34, 0.  , 0.59]],\n",
       "\n",
       "       [[0.  , 0.  , 0.  , 0.  , 0.  , 0.  , 0.  , 0.04, 0.  , 0.96]],\n",
       "\n",
       "       [[0.  , 0.  , 0.  , 0.  , 0.  , 0.02, 0.  , 0.05, 0.  , 0.93]],\n",
       "\n",
       "       [[0.  , 0.  , 0.  , 0.  , 0.  , 0.03, 0.  , 0.44, 0.  , 0.53]],\n",
       "\n",
       "       [[0.  , 0.  , 0.  , 0.  , 0.  , 0.02, 0.  , 0.01, 0.  , 0.96]],\n",
       "\n",
       "       [[0.  , 0.  , 0.  , 0.  , 0.  , 0.  , 0.  , 0.  , 0.  , 1.  ]],\n",
       "\n",
       "       [[0.  , 0.  , 0.  , 0.  , 0.  , 0.  , 0.  , 0.01, 0.  , 0.99]],\n",
       "\n",
       "       [[0.  , 0.  , 0.  , 0.  , 0.  , 0.  , 0.  , 0.42, 0.  , 0.57]],\n",
       "\n",
       "       [[0.  , 0.  , 0.  , 0.  , 0.  , 0.02, 0.  , 0.41, 0.  , 0.57]],\n",
       "\n",
       "       [[0.  , 0.  , 0.  , 0.  , 0.  , 0.55, 0.  , 0.04, 0.  , 0.4 ]],\n",
       "\n",
       "       [[0.  , 0.  , 0.  , 0.  , 0.  , 0.07, 0.  , 0.01, 0.  , 0.92]],\n",
       "\n",
       "       [[0.  , 0.  , 0.  , 0.  , 0.  , 0.01, 0.  , 0.16, 0.  , 0.84]],\n",
       "\n",
       "       [[0.  , 0.  , 0.  , 0.  , 0.  , 0.  , 0.  , 0.01, 0.  , 0.99]],\n",
       "\n",
       "       [[0.  , 0.  , 0.  , 0.  , 0.  , 0.05, 0.  , 0.16, 0.  , 0.79]],\n",
       "\n",
       "       [[0.  , 0.  , 0.  , 0.  , 0.  , 0.02, 0.  , 0.03, 0.  , 0.95]],\n",
       "\n",
       "       [[0.  , 0.  , 0.  , 0.  , 0.  , 0.12, 0.  , 0.52, 0.  , 0.36]],\n",
       "\n",
       "       [[0.  , 0.  , 0.  , 0.  , 0.  , 0.14, 0.  , 0.13, 0.  , 0.72]],\n",
       "\n",
       "       [[0.  , 0.  , 0.  , 0.  , 0.  , 0.01, 0.  , 0.02, 0.  , 0.97]],\n",
       "\n",
       "       [[0.  , 0.  , 0.  , 0.  , 0.  , 0.02, 0.  , 0.07, 0.  , 0.91]],\n",
       "\n",
       "       [[0.  , 0.  , 0.  , 0.  , 0.  , 0.01, 0.  , 0.18, 0.  , 0.81]],\n",
       "\n",
       "       [[0.  , 0.  , 0.  , 0.  , 0.  , 0.01, 0.  , 0.1 , 0.  , 0.88]],\n",
       "\n",
       "       [[0.  , 0.  , 0.  , 0.  , 0.  , 0.01, 0.  , 0.01, 0.  , 0.99]],\n",
       "\n",
       "       [[0.  , 0.  , 0.  , 0.  , 0.  , 0.42, 0.  , 0.03, 0.  , 0.55]]],\n",
       "      dtype=float32)"
      ]
     },
     "execution_count": 11,
     "metadata": {},
     "output_type": "execute_result"
    }
   ],
   "source": [
    "#prediction when the dropout is activated \n",
    "np.round(y_probas[:, :1], 2)"
   ]
  },
  {
   "cell_type": "code",
   "execution_count": 12,
   "metadata": {},
   "outputs": [],
   "source": [
    "# No implementation yet\n",
    "class MC_Dropout(keras.layers.Dropout):\n",
    "    def call(self, inputs):\n",
    "        return super().call(inputs, training= True)\n",
    "    \n",
    "class MC_Alpha_Dropout(keras.layers.AlphaDropout):\n",
    "        def call(self, inputs):\n",
    "            return super().call(inputs, training=True)"
   ]
  },
  {
   "cell_type": "code",
   "execution_count": 13,
   "metadata": {},
   "outputs": [],
   "source": [
    "#looks like training = True, takes the previous model's architecture\n",
    "mc_model = keras.models.Sequential([\n",
    "    MC_Alpha_Dropout(layer.rate) if isinstance(layer, keras.layers.AlphaDropout) else layer for layer in model.layers\n",
    "])"
   ]
  },
  {
   "cell_type": "code",
   "execution_count": 14,
   "metadata": {},
   "outputs": [
    {
     "name": "stdout",
     "output_type": "stream",
     "text": [
      "Model: \"sequential_1\"\n",
      "_________________________________________________________________\n",
      "Layer (type)                 Output Shape              Param #   \n",
      "=================================================================\n",
      "flatten (Flatten)            (None, 784)               0         \n",
      "_________________________________________________________________\n",
      "mc__alpha__dropout (MC_Alpha (None, 784)               0         \n",
      "_________________________________________________________________\n",
      "dense (Dense)                (None, 300)               235500    \n",
      "_________________________________________________________________\n",
      "mc__alpha__dropout_1 (MC_Alp (None, 300)               0         \n",
      "_________________________________________________________________\n",
      "dense_1 (Dense)              (None, 100)               30100     \n",
      "_________________________________________________________________\n",
      "mc__alpha__dropout_2 (MC_Alp (None, 100)               0         \n",
      "_________________________________________________________________\n",
      "dense_2 (Dense)              (None, 10)                1010      \n",
      "=================================================================\n",
      "Total params: 266,610\n",
      "Trainable params: 266,610\n",
      "Non-trainable params: 0\n",
      "_________________________________________________________________\n"
     ]
    }
   ],
   "source": [
    "mc_model.summary()"
   ]
  },
  {
   "cell_type": "code",
   "execution_count": 16,
   "metadata": {},
   "outputs": [
    {
     "data": {
      "text/plain": [
       "{'name': 'SGD',\n",
       " 'learning_rate': 0.01,\n",
       " 'decay': 0.0,\n",
       " 'momentum': 0.9,\n",
       " 'nesterov': True}"
      ]
     },
     "execution_count": 16,
     "metadata": {},
     "output_type": "execute_result"
    }
   ],
   "source": [
    "optimizer.get_config() "
   ]
  },
  {
   "cell_type": "code",
   "execution_count": 17,
   "metadata": {},
   "outputs": [],
   "source": [
    "mc_model.compile(loss=loss, optimizer=optimizer, metrics=accuracy)"
   ]
  },
  {
   "cell_type": "code",
   "execution_count": 18,
   "metadata": {},
   "outputs": [],
   "source": [
    "#update weights from the previous model\n",
    "mc_model.set_weights(model.get_weights())"
   ]
  },
  {
   "cell_type": "code",
   "execution_count": 20,
   "metadata": {},
   "outputs": [
    {
     "data": {
      "text/plain": [
       "array([[0.  , 0.  , 0.  , 0.  , 0.  , 0.08, 0.  , 0.17, 0.  , 0.75]],\n",
       "      dtype=float32)"
      ]
     },
     "execution_count": 20,
     "metadata": {},
     "output_type": "execute_result"
    }
   ],
   "source": [
    "#use the mc dropout model, aggergated results \n",
    "np.round(np.mean([mc_model.predict(x_test_scaled[:1]) for sample in range(100)], axis=0), 2)"
   ]
  },
  {
   "cell_type": "markdown",
   "metadata": {},
   "source": [
    "### Max Norm \n",
    "    Takes the absolute value of the weights |w| < r (r hyperparameter for max-norm)\n",
    "    -computed after each training step and rescaled if neccessary"
   ]
  },
  {
   "cell_type": "code",
   "execution_count": 21,
   "metadata": {},
   "outputs": [],
   "source": [
    "max_norm_layer = keras.layers.Dense(100, activation='selu', kernel_initializer='lecun_normal',\n",
    "                                   kernel_constraint= keras.constraints.max_norm(1.))"
   ]
  },
  {
   "cell_type": "code",
   "execution_count": 26,
   "metadata": {},
   "outputs": [
    {
     "name": "stdout",
     "output_type": "stream",
     "text": [
      "Train on 55000 samples, validate on 5000 samples\n",
      "Epoch 1/2\n",
      "55000/55000 [==============================] - 12s 222us/sample - loss: 0.4729 - accuracy: 0.8336 - val_loss: 0.4022 - val_accuracy: 0.8578\n",
      "Epoch 2/2\n",
      "55000/55000 [==============================] - 11s 204us/sample - loss: 0.3564 - accuracy: 0.8686 - val_loss: 0.3439 - val_accuracy: 0.8746\n"
     ]
    },
    {
     "data": {
      "text/plain": [
       "<tensorflow.python.keras.callbacks.History at 0x7f1a3c391a20>"
      ]
     },
     "execution_count": 26,
     "metadata": {},
     "output_type": "execute_result"
    }
   ],
   "source": [
    "from functools import partial\n",
    "#partial function again, \n",
    "MaxNormDense = partial(keras.layers.Dense, activation='selu', kernel_initializer='lecun_normal', \n",
    "                      kernel_constraint= keras.constraints.max_norm(1.))\n",
    "\n",
    "model = keras.models.Sequential([\n",
    "    keras.layers.Flatten(input_shape=[28, 28]),\n",
    "    MaxNormDense(300),\n",
    "    MaxNormDense(100),\n",
    "    keras.layers.Dense(10, activation='softmax')\n",
    "])\n",
    "\n",
    "model.compile(loss=loss, optimizer='nadam', metrics=accuracy)\n",
    "n_epochs = 2\n",
    "\n",
    "model.fit(x_train_scaled, y_train, epochs= n_epochs, validation_data=(x_valid_scaled, y_valid))"
   ]
  },
  {
   "cell_type": "markdown",
   "metadata": {},
   "source": [
    "rule of thumb for defaults:\n",
    "kernel_init = HE normal\n",
    "activation_fn = ELU\n",
    "normalization = none\n",
    "regularization = early stopping\n",
    "optimizer = momentum \n",
    "learning rate schedule = 1 cycle"
   ]
  },
  {
   "cell_type": "code",
   "execution_count": null,
   "metadata": {},
   "outputs": [],
   "source": []
  }
 ],
 "metadata": {
  "kernelspec": {
   "display_name": "Python 3",
   "language": "python",
   "name": "python3"
  },
  "language_info": {
   "codemirror_mode": {
    "name": "ipython",
    "version": 3
   },
   "file_extension": ".py",
   "mimetype": "text/x-python",
   "name": "python",
   "nbconvert_exporter": "python",
   "pygments_lexer": "ipython3",
   "version": "3.6.9"
  }
 },
 "nbformat": 4,
 "nbformat_minor": 2
}
